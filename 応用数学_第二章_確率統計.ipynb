{
 "cells": [
  {
   "cell_type": "markdown",
   "id": "black-advertiser",
   "metadata": {},
   "source": [
    "# 応用数学\n",
    "## 第二章：確率統計"
   ]
  },
  {
   "cell_type": "markdown",
   "id": "moving-ebony",
   "metadata": {},
   "source": [
    "- 集合とは  \n",
    "「ものの集まり」  \n",
    "例えば $ S = \\{a, b, c, d, e, f, g\\} $のように定義する。　　\n",
    "また、$ M = \\{c, d, e \\}$の時、\n",
    "$$\n",
    "a \\in S\\\\\n",
    "b \\in S\\\\\n",
    "M \\subset S\n",
    "$$\n",
    "などと表す。"
   ]
  },
  {
   "cell_type": "markdown",
   "id": "pretty-jefferson",
   "metadata": {},
   "source": [
    "- 和集合,共通部分,絶対補,相対補  \n",
    "それぞれ下記のようにあらわす。  \n",
    "和集合：$A \\cup B$  \n",
    "共通部分：$A \\cap B$ (※積とは言わない。多分、直積などと混乱するから）  \n",
    "絶対補(否定)：$\\overline{A}$  \n",
    "相対補(差)：$B\\backslash A$"
   ]
  },
  {
   "cell_type": "markdown",
   "id": "indirect-sellers",
   "metadata": {},
   "source": [
    "### 確率\n",
    "- 確率  \n",
    "大きく二つの考え方がある。  \n",
    "1. 頻度確率（客観確率,事象の数を数えて分数にしたら値が出てくるようなもの）  \n",
    "2. ベイズ確率（主観確率,観測事実から信念の度合いを訂正していくようなもの）  "
   ]
  },
  {
   "cell_type": "markdown",
   "id": "loving-radiation",
   "metadata": {},
   "source": [
    "- 確率の定義（頻度確率）  \n",
    "$$\n",
    "P(A) = \\frac{n(A)}{n(U)}\n",
    "$$  \n",
    "のように定義する。n(X)はX内の要素の数。  \n",
    "※ 集合の要素が無限のときもあるが、自然に拡張する。  \n",
    "$0\\leq P(A)\\leq 1$  \n",
    "$P(\\overline{A}) = 1 - P(A)$  \n",
    "のような性質がある。"
   ]
  },
  {
   "cell_type": "markdown",
   "id": "other-deposit",
   "metadata": {},
   "source": [
    "- $P(A \\cap B)$  \n",
    "$$  \n",
    "P(A\\cap B)=P(A)P(B|A)=P(B)P(A|B)\n",
    "$$"
   ]
  },
  {
   "cell_type": "markdown",
   "id": "beneficial-league",
   "metadata": {},
   "source": [
    "- 条件付き確率P(A|B)  \n",
    "$$\n",
    "\\begin{eqnarray*}\n",
    "P(A|B) &=& \\frac{P(A\\cap B)}{P(B)}\\\\\n",
    "&=& \\frac{n(A\\cap B)}{n(B)}\n",
    "\\end{eqnarray*}\n",
    "$$  "
   ]
  },
  {
   "cell_type": "markdown",
   "id": "bridal-pacific",
   "metadata": {},
   "source": [
    "- 独立な事象の同時確率  \n",
    "$$  \n",
    "\\begin{eqnarray*}\n",
    "P(A\\cap B) &=& P(A)P(B|A)\\\\\n",
    "&=& P(A)P(B)\n",
    "\\end{eqnarray*}\n",
    "$$"
   ]
  },
  {
   "cell_type": "markdown",
   "id": "brown-baseline",
   "metadata": {},
   "source": [
    "- 和集合での確率($P(A\\cup B)$)  \n",
    "$$P(A\\cup B) =P(A)+P(B)-P(A\\cap B)$$  \n",
    "2回かぶってカウントしている部分を差し引いている。"
   ]
  },
  {
   "cell_type": "markdown",
   "id": "absent-vision",
   "metadata": {},
   "source": [
    "- ベイズ則  \n",
    "$P(A)P(B|A)=P(B)P(A|B)$を変形して  \n",
    "$$\n",
    "\\begin{eqnarray*}\n",
    "P(A|B) &=& \\frac{P(A)P(B|A)}{P(B)}\\\\\n",
    "&=& \\frac{P(A\\cap B)}{P(B)}\n",
    "\\end{eqnarray*}\n",
    "$$"
   ]
  },
  {
   "cell_type": "markdown",
   "id": "damaged-catering",
   "metadata": {},
   "source": [
    "### 統計\n",
    "- 統計\n",
    "1. 記述統計⇒母集団がどういったものなのかを説明するときに利用する。典型的には「平均」など。  \n",
    "2. 推測統計⇒標本の情報から、母集団の性質を推測する。"
   ]
  },
  {
   "cell_type": "markdown",
   "id": "equivalent-tolerance",
   "metadata": {},
   "source": [
    "- 確率変数  \n",
    "事象と結びつけられた”数値”  \n",
    "統計分析（の多く？）は、事象が「数字」に結びついている場合を対象にしている。\n",
    "- 確率分布  \n",
    "事象の発生する確率の分布。  \n",
    "離散と連続がある。離散ならば合計が、連続ならば全範囲積分が、1となる。"
   ]
  },
  {
   "cell_type": "markdown",
   "id": "little-reset",
   "metadata": {},
   "source": [
    "- 期待値  \n",
    "「平均の値」みたいなもの。あるいは、「ありえそう」な値。  \n",
    "離散の場合\n",
    "$$\n",
    "    E(f)=\\sum_{k=1}^{n}P(X=x_k)f(X=x_k)\n",
    "$$  \n",
    "連続の場合\n",
    "$$\n",
    "    E(f)=\\int P(X=x_k)f(X=x_k)dx\n",
    "$$  \n"
   ]
  },
  {
   "cell_type": "markdown",
   "id": "noted-herald",
   "metadata": {},
   "source": [
    "- 分散  \n",
    "データの散らばり具合\n",
    "$$\n",
    "\\begin{eqnarray*}\n",
    "Var(f) &=& ((f_(X=x)-E_{(f)})^2)\\\\\n",
    "&=& E(f_{(X=x)}^2) - (E_{(f)})^2\n",
    "\\end{eqnarray*}\n",
    "$$  \n",
    "- 共分散  \n",
    "2つのデータ系列の傾向の違い  \n",
    "正の値であれば似た傾向、負の値であれば逆の傾向（線形的な）。  \n",
    "$$\n",
    "\\begin{eqnarray*}\n",
    "Cov(f,g) &=&E((f_{(X=x)}-E(f))(g_{(Y=y)}-E(g)))\\\\\n",
    "&=&E(fg)-E(f)E(g)\n",
    "\\end{eqnarray*}\n",
    "$$"
   ]
  },
  {
   "cell_type": "markdown",
   "id": "exterior-microwave",
   "metadata": {},
   "source": [
    "- 標準偏差  \n",
    "分散は単位（次元）が変わってしまう。  \n",
    "得られた値の平方根を取ることで、単位をそろえることがしばしば行われる。"
   ]
  },
  {
   "cell_type": "markdown",
   "id": "tutorial-replica",
   "metadata": {},
   "source": [
    "- ベルヌーイ分布  \n",
    "コイントスの分析のような場合に使われる分布。  x=1,0\n",
    "$$  \n",
    "P(x| \\mu ) = \\mu ^x (1- \\mu )^{1-x}\n",
    "$$  \n",
    "- マルチヌーイ分布  \n",
    "細かく場合分けして分析する。"
   ]
  },
  {
   "cell_type": "markdown",
   "id": "incident-saturday",
   "metadata": {},
   "source": [
    "- 二項分布  \n",
    "ベルヌーイ分布の多試行版  \n",
    "※ 離散分布。xは整数\n",
    "$$\n",
    "P(x| \\lambda ,n) = \\frac{n!}{x!(n-x)!}\\lambda ^x(1-\\lambda )^{n-x}\n",
    "$$\n",
    "- ガウス分布（正規分布）  \n",
    "釣り鐘型の連続分布。中心極限定理など様々な場面で現れる。  \n",
    "2項分布で試行回数(n)を増やしていく現れる形。  \n",
    "実務上、（良し悪しは別として）とりあえずガウス分布に従うと仮定することは多い。  \n",
    "$$\n",
    "N(x|\\mu ,\\sigma ^2) = \\sqrt{\\frac{1}{2\\pi \\sigma ^2}}\\exp{\\left( -\\frac{1}{2 \\sigma ^2}(x- \\mu )^2 \\right) }  \n",
    "$$"
   ]
  },
  {
   "cell_type": "markdown",
   "id": "undefined-arrow",
   "metadata": {},
   "source": [
    "- 推定  \n",
    "母集団を特徴づける母数（パラメーター）を統計的に推測すること。  \n",
    "通常は、母集団の全数調査というのは難しいから、標本から分析できる手法として利用される。  \n",
    "点推定と区間推定がある。"
   ]
  },
  {
   "cell_type": "markdown",
   "id": "registered-religious",
   "metadata": {},
   "source": [
    "- 推定量(estimator)  \n",
    "パラメータを推定するために利用する数値の計算方法や計算式のこと。推定関数ともいう。  \n",
    "- 推定値（estimate）  \n",
    "実際に施行を行った結果から計算した値"
   ]
  },
  {
   "cell_type": "markdown",
   "id": "pointed-sheriff",
   "metadata": {},
   "source": [
    "- 標本平均  \n",
    "母集団から取り出した標本の平均値  \n",
    "推定量は、以下の性質があるとよい（must？)\n",
    "1. 一致性（サンプル数を増やせば母集団の値に近づく）  \n",
    "2. 普遍性（サンプル数がいくらであっても、その期待値は母集団の値と同様）"
   ]
  },
  {
   "cell_type": "markdown",
   "id": "equivalent-beatles",
   "metadata": {},
   "source": [
    "- 標本分散  \n",
    "$$\n",
    "\\hat{\\sigma}^2 = \\frac{1}{n} \\sum_{i=1}^{n}(x_i-\\bar{x})^2  \n",
    "$$\n",
    "これだと、一致制は満たすが、普遍性は満たさない！  \n",
    "母集団からサンプリングしていると、元のばらつき具合よりも集まってしまう。  \n",
    "- 普遍分散\n",
    "$$\n",
    "s^2 = \\frac{1}{n-1} \\sum_{i=1}^{n}(x_i-\\bar{x})^2  \n",
    "$$\n",
    "平均の制約条件があるため、自由度が1だけ下がる。  \n",
    "そのため、nをn-1に置き換えている。"
   ]
  },
  {
   "cell_type": "markdown",
   "id": "binary-parade",
   "metadata": {},
   "source": [
    "## 演習：確率統計関係"
   ]
  },
  {
   "cell_type": "markdown",
   "id": "guided-impossible",
   "metadata": {},
   "source": [
    "問 3.1  \n",
    "a,b,d\n",
    "※事象に「数（スカラー？）」が結び付けられているもの"
   ]
  },
  {
   "cell_type": "markdown",
   "id": "aging-delaware",
   "metadata": {},
   "source": [
    "問 3.2  \n",
    "コインは、表裏それぞれの出る確率が等しい（それぞれ1/2）であるとする（テーブル上にすでに入力されている値と整合性を持たせるため）。  \n",
    "\n",
    "|  事象  |  裏が0枚<br>表が4枚  |  裏が1枚<br>表が3枚  |  裏が2枚<br>表が2枚  |  裏が3枚<br>表が1枚  |  裏が4枚<br>表が0枚  |\n",
    "| ---- | ---- | ---- | ---- | ---- | ---- |\n",
    "|  確率変数  |  4  |  3  |  2  |  1  |  0  |\n",
    "|  事象が発生した回数  | 75 | 300 | 450 | 300 | 75 |\n",
    "|  事象と対応する確率  | 1/16 | 1/4 | 3/8 | 1/4 | 1/16 |\n",
    "\n",
    "なお、当然、確率の和=1を満たす。"
   ]
  },
  {
   "cell_type": "code",
   "execution_count": 62,
   "id": "sharp-black",
   "metadata": {},
   "outputs": [],
   "source": [
    "import numpy as np\n",
    "from scipy.special import comb\n",
    "toss_count = 4\n",
    "random_variable = np.array([i for i in range(toss_count+1)])"
   ]
  },
  {
   "cell_type": "code",
   "execution_count": 63,
   "id": "final-crossing",
   "metadata": {},
   "outputs": [
    {
     "data": {
      "text/plain": [
       "<function matplotlib.pyplot.show(close=None, block=None)>"
      ]
     },
     "execution_count": 63,
     "metadata": {},
     "output_type": "execute_result"
    },
    {
     "data": {
      "image/png": "[encoded data removed]",
      "text/plain": [
       "<Figure size 432x288 with 1 Axes>"
      ]
     },
     "metadata": {
      "needs_background": "light"
     },
     "output_type": "display_data"
    }
   ],
   "source": [
    "import matplotlib.pyplot as plt\n",
    "import japanize_matplotlib\n",
    "probability = np.array([comb(toss_count, x, True) for x in random_variable]) * (1/2) ** toss_count\n",
    "fig, ax = plt.subplots(1,1)\n",
    "ax.bar(random_variable,probability)\n",
    "ax.set_xlabel(\"確率変数\")\n",
    "ax.set_ylabel(\"確率\")\n",
    "plt.show"
   ]
  },
  {
   "cell_type": "markdown",
   "id": "fifty-financing",
   "metadata": {},
   "source": [
    "問5.1  \n",
    "1年を365日（うるう年ではない）と仮定して回答する。\n",
    "\n",
    "|    |  洗濯物を干していた  |  洗濯物を干していなかった  |  合計  |\n",
    "|  ----  |  ----  |  ----  |  ----  |\n",
    "|  雨が降ってきた  |  12  |    |    |\n",
    "|  雨が降ってこなかった  |  48  |    |\n",
    "|  合計  |  60  |  305  |  365  |\n"
   ]
  },
  {
   "cell_type": "markdown",
   "id": "objective-tuner",
   "metadata": {},
   "source": [
    "よって、  \n",
    "$$\n",
    "P(雨が降ってきた日|洗濯物を干していた日) = \\frac{12}{60} = \\frac{1}{5}\\\\\n",
    "P(雨が降ってきた日,洗濯物を干していた日) = \\frac{12}{365}\n",
    "$$"
   ]
  },
  {
   "cell_type": "markdown",
   "id": "intensive-digit",
   "metadata": {},
   "source": [
    "問5.2.1  \n",
    "P(B|赤) = $\\frac{1}{3}$"
   ]
  },
  {
   "cell_type": "markdown",
   "id": "elder-algebra",
   "metadata": {},
   "source": [
    "問 5.2.2  \n",
    "P(白|A) = $\\frac{1}{2}$"
   ]
  },
  {
   "cell_type": "markdown",
   "id": "portuguese-advantage",
   "metadata": {},
   "source": [
    "問 7.3  \n",
    "ア"
   ]
  },
  {
   "cell_type": "markdown",
   "id": "tough-terry",
   "metadata": {},
   "source": [
    "問 7.4  \n",
    "ウ"
   ]
  },
  {
   "cell_type": "markdown",
   "id": "every-suggestion",
   "metadata": {},
   "source": []
  }
 ],
 "metadata": {
  "kernelspec": {
   "display_name": "Python 3",
   "language": "python",
   "name": "python3"
  },
  "language_info": {
   "codemirror_mode": {
    "name": "ipython",
    "version": 3
   },
   "file_extension": ".py",
   "mimetype": "text/x-python",
   "name": "python",
   "nbconvert_exporter": "python",
   "pygments_lexer": "ipython3",
   "version": "3.8.5"
  }
 },
 "nbformat": 4,
 "nbformat_minor": 5
}
