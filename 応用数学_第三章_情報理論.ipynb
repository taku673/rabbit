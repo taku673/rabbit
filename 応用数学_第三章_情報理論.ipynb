{
 "cells": [
  {
   "cell_type": "markdown",
   "id": "latin-democracy",
   "metadata": {},
   "source": [
    "# 応用数学\n",
    "## 第三章：情報科学"
   ]
  },
  {
   "cell_type": "markdown",
   "id": "respective-blake",
   "metadata": {},
   "source": [
    "情報量を、2つの状況の違いとして考えたとき、差よりも比率を考える。"
   ]
  },
  {
   "cell_type": "markdown",
   "id": "preceding-broadcast",
   "metadata": {},
   "source": [
    "- 自己情報量  \n",
    "$$\n",
    "I(x) = -\\log (P(x)) = \\log (W(x))\n",
    "$$  \n",
    "通常、対数の底はネイピア数eを考え、単位はnat。  \n",
    "対数の底に2を使う場合は、単位はbit。  \n",
    "ただし、底をなににするかは重要ではない場合も多い。"
   ]
  },
  {
   "cell_type": "markdown",
   "id": "fixed-middle",
   "metadata": {},
   "source": [
    "- シャノンエントロピー  \n",
    "自己情報量の期待値。  \n",
    "微分エントロピーとも言うが、微分しているわけではない！  \n",
    "$$\n",
    "H(x) = -\\Sigma \\left( P(x)\\log \\left( P(x)\\right) \\right)\n",
    "$$"
   ]
  },
  {
   "cell_type": "markdown",
   "id": "difficult-running",
   "metadata": {},
   "source": [
    "#### - カルバック・ライブラー ダイバージェンス  \n",
    "同じ事象・確率変数における異なる確率分布P,Qの違いを表す。  \n",
    "珍しさ具合の違いを距離のようにあらわしている。  \n",
    "距離の性質を全部は満たしていない。\n",
    "$$\n",
    "\\begin{eqnarray*}\n",
    "D_{KL}(P||Q) &=& \\mathbb{E}_{x ～ P}[\\log P(x)-\\log Q(x)]\\\\\n",
    "&=& \\sum_x P(x)\\log \\frac{P(x)}{Q(x)} ( > 0 )\n",
    "\\end{eqnarray*}\n",
    "$$  \n",
    "なお、ここで  \n",
    "$$\n",
    "I(Q(x)) - I(P(x)) = \\log P(x)-\\log Q(x)\\\\\n",
    "$$"
   ]
  },
  {
   "cell_type": "markdown",
   "id": "dated-watch",
   "metadata": {},
   "source": [
    "- 交差エントロピー  \n",
    "KLダイバージェンスの一部分を取り出したもの  \n",
    "Qについての自己情報量をPの分布で平均している  \n",
    "$$\n",
    "\\begin{eqnarray*}\n",
    "H(P,Q) &=& H(P)+D_{KL}(P||Q)\\\\\n",
    "&=& -\\sum_xP(x)\\log Q(x)\n",
    "\\end{eqnarray*}\n",
    "$$"
   ]
  },
  {
   "cell_type": "markdown",
   "id": "pleased-click",
   "metadata": {},
   "source": [
    "## 演習：情報量関係"
   ]
  },
  {
   "cell_type": "markdown",
   "id": "different-terminology",
   "metadata": {},
   "source": [
    "※ 以下、コインの表裏の出る確率はそれぞれ1/2だと仮定して回答する。  \n",
    "問 4.1.1  \n",
    "確率は1/2。よって、1bit"
   ]
  },
  {
   "cell_type": "markdown",
   "id": "artistic-divorce",
   "metadata": {},
   "source": [
    "問 4.1.2  \n",
    "確率は1/4。よって、2bit。"
   ]
  },
  {
   "cell_type": "markdown",
   "id": "annoying-radar",
   "metadata": {},
   "source": [
    "問4.1.3  \n",
    "確率は、$n \\times \\left( \\frac{1}{2} \\right) ^n$。  \n",
    "よって、$n - \\log_2 n$ bit。"
   ]
  },
  {
   "cell_type": "markdown",
   "id": "tropical-florence",
   "metadata": {},
   "source": [
    "問 7.5  \n",
    "イ"
   ]
  },
  {
   "cell_type": "code",
   "execution_count": null,
   "id": "stretch-mauritius",
   "metadata": {},
   "outputs": [],
   "source": []
  }
 ],
 "metadata": {
  "kernelspec": {
   "display_name": "Python 3",
   "language": "python",
   "name": "python3"
  },
  "language_info": {
   "codemirror_mode": {
    "name": "ipython",
    "version": 3
   },
   "file_extension": ".py",
   "mimetype": "text/x-python",
   "name": "python",
   "nbconvert_exporter": "python",
   "pygments_lexer": "ipython3",
   "version": "3.8.5"
  }
 },
 "nbformat": 4,
 "nbformat_minor": 5
}
