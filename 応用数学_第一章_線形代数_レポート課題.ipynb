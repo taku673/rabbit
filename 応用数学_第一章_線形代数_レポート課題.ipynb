{
 "cells": [
  {
   "cell_type": "markdown",
   "id": "durable-dictionary",
   "metadata": {},
   "source": [
    "# 応用数学\n",
    "## 第一章：線形代数"
   ]
  },
  {
   "cell_type": "markdown",
   "id": "continuing-valuable",
   "metadata": {},
   "source": []
  }
 ],
 "metadata": {
  "kernelspec": {
   "display_name": "Python 3",
   "language": "python",
   "name": "python3"
  },
  "language_info": {
   "codemirror_mode": {
    "name": "ipython",
    "version": 3
   },
   "file_extension": ".py",
   "mimetype": "text/x-python",
   "name": "python",
   "nbconvert_exporter": "python",
   "pygments_lexer": "ipython3",
   "version": "3.8.5"
  }
 },
 "nbformat": 4,
 "nbformat_minor": 5
}
