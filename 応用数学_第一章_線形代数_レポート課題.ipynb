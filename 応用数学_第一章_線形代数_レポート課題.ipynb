{
 "cells": [
  {
   "cell_type": "markdown",
   "id": "patient-promotion",
   "metadata": {},
   "source": [
    "# 応用数学\n",
    "## 第一章：線形代数"
   ]
  },
  {
   "cell_type": "markdown",
   "id": "satisfactory-citizen",
   "metadata": {},
   "source": [
    "- スカラー  \n",
    "いわゆる数字のこと。向きを持たない\n",
    "- ベクトル  \n",
    "大きさと向きを持つ。数字の組み合わせとして示すことができる。"
   ]
  },
  {
   "cell_type": "markdown",
   "id": "sufficient-toyota",
   "metadata": {},
   "source": [
    "- 行列  \n",
    "ベクトルを並べたもの。  \n",
    "ベクトルの変換するために用いる。スカラー倍では「方向」が変化しないので、変化のさせ方にバリエーションを与えるために、行列が利用できる。  \n",
    "- 直線の式\n",
    "$$a x_1 + b x_2 = c$$\n",
    "という式で、直線を表すことができる。  \n",
    "2直線があれば、交点が1つ定まる。（※コメント：平行でなければ）  \n",
    "- 連立1次方程式（解説は2元：ただしn元に拡張化）  \n",
    "2つの関係式（直線）のセット  "
   ]
  },
  {
   "cell_type": "markdown",
   "id": "union-deposit",
   "metadata": {},
   "source": [
    "- 連立方程式の行列表示  \n",
    "例として\n",
    "$$\n",
    "\\left\\{\n",
    "    \\begin{array}{l}\n",
    "        x_1 + 2 x_2 = 3 \\\\\n",
    "        2 x_1 + 5 x_2 = 5\n",
    "    \\end{array}\n",
    "\\right.\n",
    "$$\n",
    "は\n",
    "$$\n",
    "\\left(\n",
    "    \\begin{array}{cc}\n",
    "        1 & 2 \\\\\n",
    "        2 & 5 \\\\\n",
    "    \\end{array}\n",
    "\\right)\n",
    "\\left(\n",
    "    \\begin{array}{c}\n",
    "        x_1 \\\\\n",
    "        x_2 \\\\\n",
    "    \\end{array}\n",
    "\\right)\n",
    "=\n",
    "\\left(\n",
    "    \\begin{array}{c}\n",
    "        3 \\\\\n",
    "        5 \\\\\n",
    "    \\end{array}\n",
    "\\right)\n",
    "$$\n",
    "のように書ける。"
   ]
  },
  {
   "cell_type": "markdown",
   "id": "gentle-black",
   "metadata": {},
   "source": [
    "- 行列とベクトルの積  \n",
    "（スカラーの）積と和を組み合わせて、下のように計算される。\n",
    "$$\n",
    "\\left(\n",
    "    \\begin{array}{cc}\n",
    "        6 & 4 \\\\\n",
    "        3 & 5 \\\\\n",
    "    \\end{array}\n",
    "\\right)\n",
    "\\left(\n",
    "    \\begin{array}{c}\n",
    "        1 \\\\\n",
    "        2 \\\\\n",
    "    \\end{array}\n",
    "\\right)\n",
    "=\n",
    "\\left(\n",
    "    \\begin{array}{c}\n",
    "        6 \\times 1 + 4 \\times 2 \\\\\n",
    "        3 \\times 1 + 5 \\times 2 \\\\\n",
    "    \\end{array}\n",
    "\\right)\n",
    "$$\n",
    "※ 非対角成分のおかげでスカラー倍では達成できなかった方向の変化が現れる。  \n",
    "※ 行列の成分数を（下に）増やしていけば、演算後のベクトルの次元を増やすことができる。  ＿\n",
    "- 行列と行列の積  \n",
    "行列同士の積でも、後ろの行列を縦ベクトルを横に並べたものととらえれば、行列とベクトルの積の演算を使って計算することができる。"
   ]
  },
  {
   "cell_type": "markdown",
   "id": "likely-theorem",
   "metadata": {},
   "source": [
    "- 連立方程式の解き方（の例）  \n",
    "係数をそろえるように一方の式を定数倍することで、一方の文字のみの式を導くことができる。  \n",
    "「行の定数倍」「ある行に別の行の定数倍を加える」「行を入れ替える」の手続きの組み合わせで解くことができる。  \n",
    "行列表示で同様の実施を行うことで、「連立方程式を解く」ことと「行列の計算」が対応するのではないかと考えることができる。"
   ]
  },
  {
   "cell_type": "markdown",
   "id": "norwegian-question",
   "metadata": {},
   "source": [
    "- 連立方程式を行列で解く  \n",
    "2行目の1/2倍は、左から\n",
    "$$\n",
    "\\left(\n",
    "    \\begin{array}{cc}\n",
    "        1 & 0 \\\\\n",
    "        0 & 1/2 \\\\\n",
    "    \\end{array}\n",
    "\\right)\n",
    "$$\n",
    "を掛けることと同じ。  \n",
    "１行目から2行目を引くのは、左から\n",
    "$$\n",
    "\\left(\n",
    "    \\begin{array}{cc}\n",
    "        1 & -1 \\\\\n",
    "        0 & 1 \\\\\n",
    "    \\end{array}\n",
    "\\right)\n",
    "$$\n",
    "を掛けることと同じ。  \n",
    "式を入れ替えるのは、左から\n",
    "$$\n",
    "\\left(\n",
    "    \\begin{array}{cc}\n",
    "        0 & 1 \\\\\n",
    "        1 & 0 \\\\\n",
    "    \\end{array}\n",
    "\\right)\n",
    "$$\n",
    "を掛けることと同じ。  \n",
    "これらの作業は、一般化可能。"
   ]
  },
  {
   "cell_type": "markdown",
   "id": "charitable-senior",
   "metadata": {},
   "source": [
    "- 行列の「逆数」のようなもの  \n",
    "作用させて行の基本変形を先に計算することで、一つにまとまって行列を得ることができる。  \n",
    "$$\n",
    "\\left(\n",
    "    \\begin{array}{cc}\n",
    "        1 & 4 \\\\\n",
    "        2 & 6 \\\\\n",
    "    \\end{array}\n",
    "\\right)\n",
    "$$\n",
    "に対して、基本変形部分を計算して得られた\n",
    "$$\n",
    "\\left(\n",
    "    \\begin{array}{cc}\n",
    "        -3 & 2 \\\\\n",
    "        1 & -1/2 \\\\\n",
    "    \\end{array}\n",
    "\\right)\n",
    "$$\n",
    "は、逆数のように機能する（まるで割り算のように）。  \n",
    "これを利用することで、「比例の式」のように、連立方程式を解くことができる。"
   ]
  },
  {
   "cell_type": "code",
   "execution_count": null,
   "id": "failing-wound",
   "metadata": {},
   "outputs": [],
   "source": []
  }
 ],
 "metadata": {
  "kernelspec": {
   "display_name": "Python 3",
   "language": "python",
   "name": "python3"
  },
  "language_info": {
   "codemirror_mode": {
    "name": "ipython",
    "version": 3
   },
   "file_extension": ".py",
   "mimetype": "text/x-python",
   "name": "python",
   "nbconvert_exporter": "python",
   "pygments_lexer": "ipython3",
   "version": "3.8.5"
  }
 },
 "nbformat": 4,
 "nbformat_minor": 5
}
