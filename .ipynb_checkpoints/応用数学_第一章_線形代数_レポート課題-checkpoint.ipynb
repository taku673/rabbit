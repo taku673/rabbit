{
 "cells": [
  {
   "cell_type": "markdown",
   "id": "molecular-broadway",
   "metadata": {},
   "source": [
    "# 応用数学\n",
    "## 第一章：線形代数  \n",
    "### 行列"
   ]
  },
  {
   "cell_type": "markdown",
   "id": "respected-remains",
   "metadata": {},
   "source": [
    "- スカラー  \n",
    "いわゆる数字のこと。向きを持たない\n",
    "- ベクトル  \n",
    "大きさと向きを持つ。数字の組み合わせとして示すことができる。"
   ]
  },
  {
   "cell_type": "markdown",
   "id": "falling-hobby",
   "metadata": {},
   "source": [
    "- 行列  \n",
    "ベクトルを並べたもの。  \n",
    "ベクトルの変換するために用いる。スカラー倍では「方向」が変化しないので、変化のさせ方にバリエーションを与えるために、行列が利用できる。  \n",
    "- 直線の式\n",
    "$$a x_1 + b x_2 = c$$\n",
    "という式で、直線を表すことができる。  \n",
    "2直線があれば、交点が1つ定まる。（※コメント：平行でなければ）  \n",
    "- 連立1次方程式（解説は2元：ただしn元に拡張化）  \n",
    "2つの関係式（直線）のセット  "
   ]
  },
  {
   "cell_type": "markdown",
   "id": "touched-rates",
   "metadata": {},
   "source": [
    "- 連立方程式の行列表示  \n",
    "例として  \n",
    "$$\n",
    "\\left\\{\n",
    "    \\begin{array}{l}\n",
    "        x_1 + 2 x_2 = 3 \\\\\n",
    "        2 x_1 + 5 x_2 = 5\n",
    "    \\end{array}\n",
    "\\right.\n",
    "$$\n",
    "は\n",
    "$$\n",
    "\\left(\n",
    "    \\begin{array}{cc}\n",
    "        1 & 2 \\\\\n",
    "        2 & 5 \\\\\n",
    "    \\end{array}\n",
    "\\right)\n",
    "\\left(\n",
    "    \\begin{array}{c}\n",
    "        x_1 \\\\\n",
    "        x_2 \\\\\n",
    "    \\end{array}\n",
    "\\right)\n",
    "=\n",
    "\\left(\n",
    "    \\begin{array}{c}\n",
    "        3 \\\\\n",
    "        5 \\\\\n",
    "    \\end{array}\n",
    "\\right)\n",
    "$$\n",
    "のように書ける。"
   ]
  },
  {
   "cell_type": "markdown",
   "id": "liberal-vacation",
   "metadata": {},
   "source": [
    "- 行列とベクトルの積  \n",
    "（スカラーの）積と和を組み合わせて、下のように計算される。\n",
    "$$\n",
    "\\left(\n",
    "    \\begin{array}{cc}\n",
    "        6 & 4 \\\\\n",
    "        3 & 5 \\\\\n",
    "    \\end{array}\n",
    "\\right)\n",
    "\\left(\n",
    "    \\begin{array}{c}\n",
    "        1 \\\\\n",
    "        2 \\\\\n",
    "    \\end{array}\n",
    "\\right)\n",
    "=\n",
    "\\left(\n",
    "    \\begin{array}{c}\n",
    "        6 \\times 1 + 4 \\times 2 \\\\\n",
    "        3 \\times 1 + 5 \\times 2 \\\\\n",
    "    \\end{array}\n",
    "\\right)\n",
    "$$\n",
    "※ 非対角成分のおかげでスカラー倍では達成できなかった方向の変化が現れる。  \n",
    "※ 行列の成分数を（下に）増やしていけば、演算後のベクトルの次元を増やすことができる。  ＿\n",
    "- 行列と行列の積  \n",
    "行列同士の積でも、後ろの行列を縦ベクトルを横に並べたものととらえれば、行列とベクトルの積の演算を使って計算することができる。"
   ]
  },
  {
   "cell_type": "markdown",
   "id": "hawaiian-bearing",
   "metadata": {},
   "source": [
    "- 連立方程式の解き方（の例）  \n",
    "係数をそろえるように一方の式を定数倍することで、一方の文字のみの式を導くことができる。  \n",
    "「行の定数倍」「ある行に別の行の定数倍を加える」「行を入れ替える」の手続きの組み合わせで解くことができる。  \n",
    "行列表示で同様の実施を行うことで、「連立方程式を解く」ことと「行列の計算」が対応するのではないかと考えることができる。"
   ]
  },
  {
   "cell_type": "markdown",
   "id": "decent-sustainability",
   "metadata": {},
   "source": [
    "- 連立方程式を行列で解く  \n",
    "2行目の1/2倍は、左から\n",
    "$$\n",
    "\\left(\n",
    "    \\begin{array}{cc}\n",
    "        1 & 0 \\\\\n",
    "        0 & 1/2 \\\\\n",
    "    \\end{array}\n",
    "\\right)\n",
    "$$\n",
    "を掛けることと同じ。  \n",
    "１行目から2行目を引くのは、左から\n",
    "$$\n",
    "\\left(\n",
    "    \\begin{array}{cc}\n",
    "        1 & -1 \\\\\n",
    "        0 & 1 \\\\\n",
    "    \\end{array}\n",
    "\\right)\n",
    "$$\n",
    "を掛けることと同じ。  \n",
    "式を入れ替えるのは、左から\n",
    "$$\n",
    "\\left(\n",
    "    \\begin{array}{cc}\n",
    "        0 & 1 \\\\\n",
    "        1 & 0 \\\\\n",
    "    \\end{array}\n",
    "\\right)\n",
    "$$\n",
    "を掛けることと同じ。  \n",
    "これらの作業は、一般化可能。"
   ]
  },
  {
   "cell_type": "markdown",
   "id": "rational-examination",
   "metadata": {},
   "source": [
    "- 行列の「逆数」のようなもの  \n",
    "作用させて行の基本変形を先に計算することで、一つにまとまって行列を得ることができる。  \n",
    "$$\n",
    "\\left(\n",
    "    \\begin{array}{cc}\n",
    "        1 & 4 \\\\\n",
    "        2 & 6 \\\\\n",
    "    \\end{array}\n",
    "\\right)\n",
    "$$\n",
    "に対して、基本変形部分を計算して得られた\n",
    "$$\n",
    "\\left(\n",
    "    \\begin{array}{cc}\n",
    "        -3 & 2 \\\\\n",
    "        1 & -1/2 \\\\\n",
    "    \\end{array}\n",
    "\\right)\n",
    "$$\n",
    "は、逆数のように機能する（まるで割り算のように）。  \n",
    "これを利用することで、「比例の式」のように、連立方程式を解くことができる。"
   ]
  },
  {
   "cell_type": "markdown",
   "id": "cubic-classification",
   "metadata": {},
   "source": [
    "- 単位行列の性質  \n",
    "後ろからかけても前からかけても、元の行列を変化させない。  \n",
    "- 単位行列を作る行列⇒逆行列  \n",
    "$$ A ^{-1} $$\n",
    "と書く。エーインバースのように読む"
   ]
  },
  {
   "cell_type": "markdown",
   "id": "painful-agent",
   "metadata": {},
   "source": [
    "- 逆行列の求め方  \n",
    "（連立方程式を解くときと同じように）行の基本変形を行えば作ることができる。  \n",
    "拡大行列を使えば、基本変形に対応する行列計算を行わなくても、逆行列が現れる。  \n",
    "※ 逆行列を求める方法（アルゴリズム）は様々あるが、どんな方法/手順で求めても、得られる逆行列は同じになる。  \n",
    "※ 分数と同じ記法は、（普通は）しない。"
   ]
  },
  {
   "cell_type": "markdown",
   "id": "traditional-territory",
   "metadata": {},
   "source": [
    "- 逆行列が存在しない場合  \n",
    "対応する連立方程式を考えたとき、2式が平行になると逆行列を持たない。  \n",
    "- 幾何的な対応\n",
    "ad-bc = 0 は平行四辺形の面積 = 0に対応していて、この面積が0の時に逆行列が存在しない。"
   ]
  },
  {
   "cell_type": "markdown",
   "id": "regulated-blocking",
   "metadata": {},
   "source": [
    "- 判別式（determinant）  \n",
    "例えば  \n",
    "$$  \n",
    "\\left|  \n",
    "    \\begin{array}{cc}  \n",
    "        1 & 4 \\\\  \n",
    "        2 & 6 \\\\  \n",
    "    \\end{array}  \n",
    "\\right|  \n",
    "$$  \n",
    "のように書く。  \n",
    "- 行列式の特徴  \n",
    "1. 成分ベクトルに平行成分がある場合は、0。  \n",
    "2. いずれかの成分ベクトルがλ倍されると行列式もλ倍される。  \n",
    "3. いずれかの成分ベクトルにベクトルを足した場合、行列式もその部分を変更した行列式を足し合わせたものになる。  \n",
    "4. 行と列を入れ替えると符号が逆になる。"
   ]
  },
  {
   "cell_type": "markdown",
   "id": "impossible-liberty",
   "metadata": {},
   "source": [
    "- 行列式の求め方  \n",
    "$n \\times n$の場合には、分解して$ (n-1) \\times (n-1)$に変換する（これを繰り返す）  \n",
    "※ どのベクトルで分解するのが簡単になるかに着目するとよい。"
   ]
  },
  {
   "cell_type": "markdown",
   "id": "clinical-spirit",
   "metadata": {},
   "source": [
    "### 固有値"
   ]
  },
  {
   "cell_type": "markdown",
   "id": "clear-wrapping",
   "metadata": {},
   "source": [
    "- 固有値、固有ベクトル  \n",
    "$$\n",
    "A \\vec{x} = \\lambda \\vec{x}  \n",
    "$$  \n",
    "のとき、λをAの固有値、$\\vec{x}$ をAの固有ベクトルという。"
   ]
  },
  {
   "cell_type": "markdown",
   "id": "featured-running",
   "metadata": {},
   "source": [
    "- 固有値（$\\lambda$）の求め方  \n",
    "$$  \n",
    "\\left|  \n",
    "    A - \\lambda I  \n",
    "\\right|  = 0\n",
    "$$  \n",
    "を解くことで求めることができる。  \n",
    "※固有値は具体的な値が求められるが、固有ベクトルは○○の定数倍、のような形で求まる。（定数倍はすべて固有ベクトルになるから）"
   ]
  },
  {
   "cell_type": "markdown",
   "id": "sonic-envelope",
   "metadata": {},
   "source": [
    "- 固有値分解  \n",
    "分解をかけることで、似ている部分を強調して理解することができる。  \n",
    "ある行列Aに対して、その固有値を対角成分に並べた行列を$\\Lambda$とし、対応する固有ベクトルを縦ベクトルとして順番通りに並べた行列をVとする。  \n",
    "ここで、  \n",
    "$$  \n",
    "A = V \\Lambda V ^{-1}\n",
    "$$  \n",
    "が成り立つ。  \n",
    "※ 例えば、これを用いると行列Aを繰り返しかけあわせる演算が簡単にできる。"
   ]
  },
  {
   "cell_type": "markdown",
   "id": "grateful-genre",
   "metadata": {},
   "source": [
    "- 特異値分解  \n",
    "固有値分解は、正方形の行列しかできない。長方形に対しては特異値分解をする。  \n",
    "$$\n",
    "M \\vec{v} = \\sigma \\vec{u}\\\\  \n",
    "M^{T} \\vec{u} = \\sigma \\vec{v}  \n",
    "$$のような単位ベクトルを得られるとき、Mを\n",
    "$$  \n",
    "M = U S V^{T}  \n",
    "$$  \n",
    "のように変換でき、これを特異値分解という。  "
   ]
  },
  {
   "cell_type": "markdown",
   "id": "billion-vocabulary",
   "metadata": {},
   "source": [
    "$M M^{T}$は対称な行列になる。この固有ベクトルは直行する性質がある。"
   ]
  },
  {
   "cell_type": "markdown",
   "id": "stupid-archive",
   "metadata": {},
   "source": [
    "- 特異値分解は何に使う？  \n",
    "画像の特異値分解をして、部分的に排除しても、おなじような情報に見えてくる。  \n",
    "画像の特徴を抽出して情報量を減らすことができる。（データが少なくできる）ピントをずらしていくような画像が得られる。"
   ]
  },
  {
   "cell_type": "code",
   "execution_count": null,
   "id": "civil-broadway",
   "metadata": {},
   "outputs": [],
   "source": []
  }
 ],
 "metadata": {
  "kernelspec": {
   "display_name": "Python 3",
   "language": "python",
   "name": "python3"
  },
  "language_info": {
   "codemirror_mode": {
    "name": "ipython",
    "version": 3
   },
   "file_extension": ".py",
   "mimetype": "text/x-python",
   "name": "python",
   "nbconvert_exporter": "python",
   "pygments_lexer": "ipython3",
   "version": "3.8.5"
  }
 },
 "nbformat": 4,
 "nbformat_minor": 5
}
