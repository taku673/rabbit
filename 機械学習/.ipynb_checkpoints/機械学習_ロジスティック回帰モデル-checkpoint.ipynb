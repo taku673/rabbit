{
 "cells": [
  {
   "cell_type": "markdown",
   "id": "olive-resolution",
   "metadata": {},
   "source": [
    "# 機械学習  \n",
    "## ロジスティック回帰  "
   ]
  },
  {
   "cell_type": "markdown",
   "id": "polyphonic-bangladesh",
   "metadata": {},
   "source": [
    "- 分類問題  \n",
    " 1. 識別的アプローチ  \n",
    " $p(C_k|\\mathbb{x})$を直接モデル化する。（ロジスティック回帰はこれ）  \n",
    " 識別関数の構成もある。(SVMなど）\n",
    " 2. 生成的アプローチ  \n",
    " $p(C_k)$と$p(\\mathbb{x}|C_k)$をモデル化し、その後、ベイズの定理を用いて,$p(C_k|\\mathbb{x})$を求める。  \n",
    "$$\n",
    "p(C_k|\\mathbb{x})=\\frac{C_k,\\mathbb{x})}{p(\\mathbb{x})} = \\frac{p(\\mathbb{x}|C_k)p(C_k)}{p(\\mathbb{x})}\n",
    "$$\n",
    "\n",
    "※ロジスティック回帰は分類問題（数値を予想するものではない）  "
   ]
  },
  {
   "cell_type": "markdown",
   "id": "residential-station",
   "metadata": {},
   "source": [
    "- 回帰を利用した分類  \n",
    "線形回帰を利用しようとすると、$x^Tw\\in\\mathbf{R}$であるが、$y\\in\\{ 0,1 \\}$であるため、実数全体を値域とするのは都合が悪い。  \n",
    "そこで、実数全体から、[0,1]への写像をなす関数を考える。  \n",
    "具体的にはシグモイド関数を使う。  \n",
    "$$\n",
    "\\sigma (z) :=\\frac{1}{1+e^{-z}}\n",
    "$$  \n",
    "こうすることで、確率とみなすことができる。  \n",
    "- ロジスティック関数  \n",
    "線形結合をシグモイド関数の引数とすることで分類を行う。"
   ]
  },
  {
   "cell_type": "markdown",
   "id": "special-nirvana",
   "metadata": {},
   "source": [
    "- シグモイド関数の微分\n",
    "$$\n",
    "\\frac{d}{dz}\\sigma (z)=\\sigma (z)(1-\\sigma (z))\n",
    "$$"
   ]
  },
  {
   "cell_type": "markdown",
   "id": "therapeutic-spanish",
   "metadata": {},
   "source": [
    "- ロジスティック回帰の考え方  \n",
    "シグモイド関数の出力をY=1になる確率に対応させる（ように、パラメータ$\\mathbb{w}$を決める）  \n",
    "出力としてほしいのは、\n",
    "$$\n",
    "P(Y=1|\\mathbb{x}) =\\sigma (\\mathbb{x}^T\\mathbb{w})\n",
    "$$\n",
    "通常は、閾値を0.5として、それ以上ならY=1　以下ならY=0のように分類する。"
   ]
  },
  {
   "cell_type": "markdown",
   "id": "imported-genius",
   "metadata": {},
   "source": [
    "- 尤度最大化の考え方  \n",
    "分布の形状（すなわちパラメータの値）が分からず、現象を観測したとき、得られた現象から最も尤もらしいパラメータを推定値として利用する。  \n",
    "ここで、最も尤もらしいとは、得られた現象が発生する確率を最大化するという意味である。  \n",
    "例えば、ベルヌーイ分布に従う事象を繰り返し行った場合は\n",
    "$$\n",
    "P(y_1, y_2, ..., y_n;p) = \\prod_{i=1}^np^{y_i}(1-p)^{1-y_i}\n",
    "$$\n",
    "が尤度関数となる。（実測値を使ってこれを最大化するpを求めると、そのようなpが裏にあるベルヌーイ分布のパラメータでありそうだと考えるということ）  \n",
    "- ロジスティック回帰での尤度関数  \n",
    "上記ベルヌーイ分布のpの値が、観測ごとに変化して、$\\sigma{\\mathbb{w}^T\\mathbb{x}_i}$に置き換えればよく、得られた尤度関数はパラメータ$\\mathbb{w}$の関数となる。  \n",
    "$$\n",
    "L(\\mathbb{w}) = \\prod_{i=1}^n\\sigma (\\mathbb{w}^T\\mathbb{x}_i)^{y_i}(1-\\sigma (\\mathbb{w}^T\\mathbb{x}_i))^{1-y_i}\n",
    "$$\n",
    "となり、これを最大化するパラメータを求める。\n",
    "通常、$E=-\\log L(\\mathbb{w})$の最小化に置き換えて計算する。  \n",
    "これによって、積を和に変換し、かつ桁落ちを防ぐことができる。"
   ]
  },
  {
   "cell_type": "markdown",
   "id": "rotary-looking",
   "metadata": {},
   "source": [
    "- 勾配降下法  \n",
    "このEの最小値は解析的に求めることができない。候補となる$\\mathbb{w}_i$の列を考えて、ステップごとに最小値に近づけていくことを考える。  \n",
    "勾配降下法では、値の更新のために、Eを$\\mathbb{w}$で微分した式が必要。\n",
    "$$\n",
    "E(\\mathbb{w}) = -\\log L(\\mathbb{w})\\\\\n",
    "\\begin{eqnarray*}\n",
    "\\frac{\\partial E(\\mathbb{w})}{\\partial \\mathbb{w}} &=& -\\sum_{i=1}^n\\frac{\\partial E_i}{\\partial p_i}\\frac{\\partial p_i}{\\partial z_i}\\frac{\\partial z_i}{\\partial \\mathbb{w}}\\\\\n",
    "&=& -\\sum_{i=1}^n (y_i-p_i)\\mathbb{x}_i\n",
    "\\end{eqnarray*}\n",
    "$$\n",
    "この傾きを用いて、\n",
    "$$\n",
    "\\mathbb{w}^{(k+1)} = \\mathbb{w}^{(k)} + \\eta\\sum_{i=1}^n(y_i-p_i)\\mathbb{x}_i\n",
    "$$  \n",
    "という重みの更新式を得る。"
   ]
  },
  {
   "cell_type": "markdown",
   "id": "temporal-warrant",
   "metadata": {},
   "source": [
    "- 確率的勾配降下法  \n",
    "全データで毎回値の更新をすると、データが多いときメモリを大量に消費し、かつ時間もかかる。  \n",
    "そこで、1データずつあるいは少量のデータずつで更新していく。  "
   ]
  },
  {
   "cell_type": "markdown",
   "id": "stone-welding",
   "metadata": {},
   "source": [
    "※※ コメント：ロジスティック回帰の実装の前に、ビデオが一部飛んでると思います。"
   ]
  },
  {
   "cell_type": "markdown",
   "id": "injured-designer",
   "metadata": {},
   "source": [
    "## ロジスティック回帰の実装"
   ]
  },
  {
   "cell_type": "code",
   "execution_count": 49,
   "id": "fiscal-north",
   "metadata": {},
   "outputs": [],
   "source": [
    "import pandas as pd\n",
    "import numpy as np\n",
    "import matplotlib.pyplot as plt\n",
    "import seaborn as sns"
   ]
  },
  {
   "cell_type": "code",
   "execution_count": 50,
   "id": "educated-wagner",
   "metadata": {},
   "outputs": [],
   "source": [
    "titanic_df = pd.read_csv(\"./train.csv\")"
   ]
  },
  {
   "cell_type": "markdown",
   "id": "wooden-accordance",
   "metadata": {},
   "source": [
    "### データクレンジング"
   ]
  },
  {
   "cell_type": "code",
   "execution_count": 51,
   "id": "previous-plain",
   "metadata": {},
   "outputs": [
    {
     "data": {
      "text/html": [
       "<div>\n",
       "<style scoped>\n",
       "    .dataframe tbody tr th:only-of-type {\n",
       "        vertical-align: middle;\n",
       "    }\n",
       "\n",
       "    .dataframe tbody tr th {\n",
       "        vertical-align: top;\n",
       "    }\n",
       "\n",
       "    .dataframe thead th {\n",
       "        text-align: right;\n",
       "    }\n",
       "</style>\n",
       "<table border=\"1\" class=\"dataframe\">\n",
       "  <thead>\n",
       "    <tr style=\"text-align: right;\">\n",
       "      <th></th>\n",
       "      <th>PassengerId</th>\n",
       "      <th>Survived</th>\n",
       "      <th>Pclass</th>\n",
       "      <th>Name</th>\n",
       "      <th>Sex</th>\n",
       "      <th>Age</th>\n",
       "      <th>SibSp</th>\n",
       "      <th>Parch</th>\n",
       "      <th>Ticket</th>\n",
       "      <th>Fare</th>\n",
       "      <th>Cabin</th>\n",
       "      <th>Embarked</th>\n",
       "    </tr>\n",
       "  </thead>\n",
       "  <tbody>\n",
       "    <tr>\n",
       "      <th>0</th>\n",
       "      <td>1</td>\n",
       "      <td>0</td>\n",
       "      <td>3</td>\n",
       "      <td>Braund, Mr. Owen Harris</td>\n",
       "      <td>male</td>\n",
       "      <td>22.0</td>\n",
       "      <td>1</td>\n",
       "      <td>0</td>\n",
       "      <td>A/5 21171</td>\n",
       "      <td>7.2500</td>\n",
       "      <td>NaN</td>\n",
       "      <td>S</td>\n",
       "    </tr>\n",
       "    <tr>\n",
       "      <th>1</th>\n",
       "      <td>2</td>\n",
       "      <td>1</td>\n",
       "      <td>1</td>\n",
       "      <td>Cumings, Mrs. John Bradley (Florence Briggs Th...</td>\n",
       "      <td>female</td>\n",
       "      <td>38.0</td>\n",
       "      <td>1</td>\n",
       "      <td>0</td>\n",
       "      <td>PC 17599</td>\n",
       "      <td>71.2833</td>\n",
       "      <td>C85</td>\n",
       "      <td>C</td>\n",
       "    </tr>\n",
       "    <tr>\n",
       "      <th>2</th>\n",
       "      <td>3</td>\n",
       "      <td>1</td>\n",
       "      <td>3</td>\n",
       "      <td>Heikkinen, Miss. Laina</td>\n",
       "      <td>female</td>\n",
       "      <td>26.0</td>\n",
       "      <td>0</td>\n",
       "      <td>0</td>\n",
       "      <td>STON/O2. 3101282</td>\n",
       "      <td>7.9250</td>\n",
       "      <td>NaN</td>\n",
       "      <td>S</td>\n",
       "    </tr>\n",
       "    <tr>\n",
       "      <th>3</th>\n",
       "      <td>4</td>\n",
       "      <td>1</td>\n",
       "      <td>1</td>\n",
       "      <td>Futrelle, Mrs. Jacques Heath (Lily May Peel)</td>\n",
       "      <td>female</td>\n",
       "      <td>35.0</td>\n",
       "      <td>1</td>\n",
       "      <td>0</td>\n",
       "      <td>113803</td>\n",
       "      <td>53.1000</td>\n",
       "      <td>C123</td>\n",
       "      <td>S</td>\n",
       "    </tr>\n",
       "    <tr>\n",
       "      <th>4</th>\n",
       "      <td>5</td>\n",
       "      <td>0</td>\n",
       "      <td>3</td>\n",
       "      <td>Allen, Mr. William Henry</td>\n",
       "      <td>male</td>\n",
       "      <td>35.0</td>\n",
       "      <td>0</td>\n",
       "      <td>0</td>\n",
       "      <td>373450</td>\n",
       "      <td>8.0500</td>\n",
       "      <td>NaN</td>\n",
       "      <td>S</td>\n",
       "    </tr>\n",
       "  </tbody>\n",
       "</table>\n",
       "</div>"
      ],
      "text/plain": [
       "   PassengerId  Survived  Pclass  \\\n",
       "0            1         0       3   \n",
       "1            2         1       1   \n",
       "2            3         1       3   \n",
       "3            4         1       1   \n",
       "4            5         0       3   \n",
       "\n",
       "                                                Name     Sex   Age  SibSp  \\\n",
       "0                            Braund, Mr. Owen Harris    male  22.0      1   \n",
       "1  Cumings, Mrs. John Bradley (Florence Briggs Th...  female  38.0      1   \n",
       "2                             Heikkinen, Miss. Laina  female  26.0      0   \n",
       "3       Futrelle, Mrs. Jacques Heath (Lily May Peel)  female  35.0      1   \n",
       "4                           Allen, Mr. William Henry    male  35.0      0   \n",
       "\n",
       "   Parch            Ticket     Fare Cabin Embarked  \n",
       "0      0         A/5 21171   7.2500   NaN        S  \n",
       "1      0          PC 17599  71.2833   C85        C  \n",
       "2      0  STON/O2. 3101282   7.9250   NaN        S  \n",
       "3      0            113803  53.1000  C123        S  \n",
       "4      0            373450   8.0500   NaN        S  "
      ]
     },
     "execution_count": 51,
     "metadata": {},
     "output_type": "execute_result"
    }
   ],
   "source": [
    "titanic_df.head(5)"
   ]
  },
  {
   "cell_type": "code",
   "execution_count": 52,
   "id": "bright-vanilla",
   "metadata": {},
   "outputs": [
    {
     "data": {
      "text/html": [
       "<div>\n",
       "<style scoped>\n",
       "    .dataframe tbody tr th:only-of-type {\n",
       "        vertical-align: middle;\n",
       "    }\n",
       "\n",
       "    .dataframe tbody tr th {\n",
       "        vertical-align: top;\n",
       "    }\n",
       "\n",
       "    .dataframe thead th {\n",
       "        text-align: right;\n",
       "    }\n",
       "</style>\n",
       "<table border=\"1\" class=\"dataframe\">\n",
       "  <thead>\n",
       "    <tr style=\"text-align: right;\">\n",
       "      <th></th>\n",
       "      <th>Survived</th>\n",
       "      <th>Pclass</th>\n",
       "      <th>Sex</th>\n",
       "      <th>Age</th>\n",
       "      <th>SibSp</th>\n",
       "      <th>Parch</th>\n",
       "      <th>Fare</th>\n",
       "      <th>Embarked</th>\n",
       "    </tr>\n",
       "  </thead>\n",
       "  <tbody>\n",
       "    <tr>\n",
       "      <th>0</th>\n",
       "      <td>0</td>\n",
       "      <td>3</td>\n",
       "      <td>male</td>\n",
       "      <td>22.0</td>\n",
       "      <td>1</td>\n",
       "      <td>0</td>\n",
       "      <td>7.2500</td>\n",
       "      <td>S</td>\n",
       "    </tr>\n",
       "    <tr>\n",
       "      <th>1</th>\n",
       "      <td>1</td>\n",
       "      <td>1</td>\n",
       "      <td>female</td>\n",
       "      <td>38.0</td>\n",
       "      <td>1</td>\n",
       "      <td>0</td>\n",
       "      <td>71.2833</td>\n",
       "      <td>C</td>\n",
       "    </tr>\n",
       "    <tr>\n",
       "      <th>2</th>\n",
       "      <td>1</td>\n",
       "      <td>3</td>\n",
       "      <td>female</td>\n",
       "      <td>26.0</td>\n",
       "      <td>0</td>\n",
       "      <td>0</td>\n",
       "      <td>7.9250</td>\n",
       "      <td>S</td>\n",
       "    </tr>\n",
       "    <tr>\n",
       "      <th>3</th>\n",
       "      <td>1</td>\n",
       "      <td>1</td>\n",
       "      <td>female</td>\n",
       "      <td>35.0</td>\n",
       "      <td>1</td>\n",
       "      <td>0</td>\n",
       "      <td>53.1000</td>\n",
       "      <td>S</td>\n",
       "    </tr>\n",
       "    <tr>\n",
       "      <th>4</th>\n",
       "      <td>0</td>\n",
       "      <td>3</td>\n",
       "      <td>male</td>\n",
       "      <td>35.0</td>\n",
       "      <td>0</td>\n",
       "      <td>0</td>\n",
       "      <td>8.0500</td>\n",
       "      <td>S</td>\n",
       "    </tr>\n",
       "  </tbody>\n",
       "</table>\n",
       "</div>"
      ],
      "text/plain": [
       "   Survived  Pclass     Sex   Age  SibSp  Parch     Fare Embarked\n",
       "0         0       3    male  22.0      1      0   7.2500        S\n",
       "1         1       1  female  38.0      1      0  71.2833        C\n",
       "2         1       3  female  26.0      0      0   7.9250        S\n",
       "3         1       1  female  35.0      1      0  53.1000        S\n",
       "4         0       3    male  35.0      0      0   8.0500        S"
      ]
     },
     "execution_count": 52,
     "metadata": {},
     "output_type": "execute_result"
    }
   ],
   "source": [
    "titanic_df.drop(['PassengerId','Name','Ticket','Cabin'],axis=1, inplace=True)\n",
    "titanic_df.head()"
   ]
  },
  {
   "cell_type": "code",
   "execution_count": 53,
   "id": "rental-pharmacy",
   "metadata": {},
   "outputs": [
    {
     "data": {
      "text/html": [
       "<div>\n",
       "<style scoped>\n",
       "    .dataframe tbody tr th:only-of-type {\n",
       "        vertical-align: middle;\n",
       "    }\n",
       "\n",
       "    .dataframe tbody tr th {\n",
       "        vertical-align: top;\n",
       "    }\n",
       "\n",
       "    .dataframe thead th {\n",
       "        text-align: right;\n",
       "    }\n",
       "</style>\n",
       "<table border=\"1\" class=\"dataframe\">\n",
       "  <thead>\n",
       "    <tr style=\"text-align: right;\">\n",
       "      <th></th>\n",
       "      <th>Survived</th>\n",
       "      <th>Pclass</th>\n",
       "      <th>Sex</th>\n",
       "      <th>Age</th>\n",
       "      <th>SibSp</th>\n",
       "      <th>Parch</th>\n",
       "      <th>Fare</th>\n",
       "      <th>Embarked</th>\n",
       "    </tr>\n",
       "  </thead>\n",
       "  <tbody>\n",
       "    <tr>\n",
       "      <th>5</th>\n",
       "      <td>0</td>\n",
       "      <td>3</td>\n",
       "      <td>male</td>\n",
       "      <td>NaN</td>\n",
       "      <td>0</td>\n",
       "      <td>0</td>\n",
       "      <td>8.4583</td>\n",
       "      <td>Q</td>\n",
       "    </tr>\n",
       "    <tr>\n",
       "      <th>17</th>\n",
       "      <td>1</td>\n",
       "      <td>2</td>\n",
       "      <td>male</td>\n",
       "      <td>NaN</td>\n",
       "      <td>0</td>\n",
       "      <td>0</td>\n",
       "      <td>13.0000</td>\n",
       "      <td>S</td>\n",
       "    </tr>\n",
       "    <tr>\n",
       "      <th>19</th>\n",
       "      <td>1</td>\n",
       "      <td>3</td>\n",
       "      <td>female</td>\n",
       "      <td>NaN</td>\n",
       "      <td>0</td>\n",
       "      <td>0</td>\n",
       "      <td>7.2250</td>\n",
       "      <td>C</td>\n",
       "    </tr>\n",
       "    <tr>\n",
       "      <th>26</th>\n",
       "      <td>0</td>\n",
       "      <td>3</td>\n",
       "      <td>male</td>\n",
       "      <td>NaN</td>\n",
       "      <td>0</td>\n",
       "      <td>0</td>\n",
       "      <td>7.2250</td>\n",
       "      <td>C</td>\n",
       "    </tr>\n",
       "    <tr>\n",
       "      <th>28</th>\n",
       "      <td>1</td>\n",
       "      <td>3</td>\n",
       "      <td>female</td>\n",
       "      <td>NaN</td>\n",
       "      <td>0</td>\n",
       "      <td>0</td>\n",
       "      <td>7.8792</td>\n",
       "      <td>Q</td>\n",
       "    </tr>\n",
       "    <tr>\n",
       "      <th>29</th>\n",
       "      <td>0</td>\n",
       "      <td>3</td>\n",
       "      <td>male</td>\n",
       "      <td>NaN</td>\n",
       "      <td>0</td>\n",
       "      <td>0</td>\n",
       "      <td>7.8958</td>\n",
       "      <td>S</td>\n",
       "    </tr>\n",
       "    <tr>\n",
       "      <th>31</th>\n",
       "      <td>1</td>\n",
       "      <td>1</td>\n",
       "      <td>female</td>\n",
       "      <td>NaN</td>\n",
       "      <td>1</td>\n",
       "      <td>0</td>\n",
       "      <td>146.5208</td>\n",
       "      <td>C</td>\n",
       "    </tr>\n",
       "    <tr>\n",
       "      <th>32</th>\n",
       "      <td>1</td>\n",
       "      <td>3</td>\n",
       "      <td>female</td>\n",
       "      <td>NaN</td>\n",
       "      <td>0</td>\n",
       "      <td>0</td>\n",
       "      <td>7.7500</td>\n",
       "      <td>Q</td>\n",
       "    </tr>\n",
       "    <tr>\n",
       "      <th>36</th>\n",
       "      <td>1</td>\n",
       "      <td>3</td>\n",
       "      <td>male</td>\n",
       "      <td>NaN</td>\n",
       "      <td>0</td>\n",
       "      <td>0</td>\n",
       "      <td>7.2292</td>\n",
       "      <td>C</td>\n",
       "    </tr>\n",
       "    <tr>\n",
       "      <th>42</th>\n",
       "      <td>0</td>\n",
       "      <td>3</td>\n",
       "      <td>male</td>\n",
       "      <td>NaN</td>\n",
       "      <td>0</td>\n",
       "      <td>0</td>\n",
       "      <td>7.8958</td>\n",
       "      <td>C</td>\n",
       "    </tr>\n",
       "  </tbody>\n",
       "</table>\n",
       "</div>"
      ],
      "text/plain": [
       "    Survived  Pclass     Sex  Age  SibSp  Parch      Fare Embarked\n",
       "5          0       3    male  NaN      0      0    8.4583        Q\n",
       "17         1       2    male  NaN      0      0   13.0000        S\n",
       "19         1       3  female  NaN      0      0    7.2250        C\n",
       "26         0       3    male  NaN      0      0    7.2250        C\n",
       "28         1       3  female  NaN      0      0    7.8792        Q\n",
       "29         0       3    male  NaN      0      0    7.8958        S\n",
       "31         1       1  female  NaN      1      0  146.5208        C\n",
       "32         1       3  female  NaN      0      0    7.7500        Q\n",
       "36         1       3    male  NaN      0      0    7.2292        C\n",
       "42         0       3    male  NaN      0      0    7.8958        C"
      ]
     },
     "execution_count": 53,
     "metadata": {},
     "output_type": "execute_result"
    }
   ],
   "source": [
    "titanic_df[titanic_df.isnull().any(1)].head(10)"
   ]
  },
  {
   "cell_type": "code",
   "execution_count": 54,
   "id": "simple-victim",
   "metadata": {},
   "outputs": [
    {
     "name": "stdout",
     "output_type": "stream",
     "text": [
      "     Survived  Pclass     Sex  Age  SibSp  Parch     Fare Embarked    AgeFill\n",
      "5           0       3    male  NaN      0      0   8.4583        Q  29.699118\n",
      "17          1       2    male  NaN      0      0  13.0000        S  29.699118\n",
      "19          1       3  female  NaN      0      0   7.2250        C  29.699118\n",
      "26          0       3    male  NaN      0      0   7.2250        C  29.699118\n",
      "28          1       3  female  NaN      0      0   7.8792        Q  29.699118\n",
      "..        ...     ...     ...  ...    ...    ...      ...      ...        ...\n",
      "859         0       3    male  NaN      0      0   7.2292        C  29.699118\n",
      "863         0       3  female  NaN      8      2  69.5500        S  29.699118\n",
      "868         0       3    male  NaN      0      0   9.5000        S  29.699118\n",
      "878         0       3    male  NaN      0      0   7.8958        S  29.699118\n",
      "888         0       3  female  NaN      1      2  23.4500        S  29.699118\n",
      "\n",
      "[179 rows x 9 columns]\n"
     ]
    }
   ],
   "source": [
    "titanic_df['AgeFill'] = titanic_df['Age'].fillna(titanic_df['Age'].mean())\n",
    "print(titanic_df[titanic_df.isnull().any(1)])"
   ]
  },
  {
   "cell_type": "markdown",
   "id": "traditional-benjamin",
   "metadata": {},
   "source": [
    "### ロジスティック回帰"
   ]
  },
  {
   "cell_type": "code",
   "execution_count": 55,
   "id": "bigger-yield",
   "metadata": {},
   "outputs": [],
   "source": [
    "data1 = titanic_df.loc[:,[\"Fare\"]].values\n",
    "label1 = titanic_df.loc[:,[\"Survived\"]].values.ravel()"
   ]
  },
  {
   "cell_type": "code",
   "execution_count": 56,
   "id": "flush-navigation",
   "metadata": {},
   "outputs": [],
   "source": [
    "from sklearn.linear_model import LogisticRegression"
   ]
  },
  {
   "cell_type": "code",
   "execution_count": 57,
   "id": "alert-output",
   "metadata": {},
   "outputs": [],
   "source": [
    "model = LogisticRegression()"
   ]
  },
  {
   "cell_type": "code",
   "execution_count": 58,
   "id": "greater-fluid",
   "metadata": {},
   "outputs": [
    {
     "data": {
      "text/plain": [
       "LogisticRegression()"
      ]
     },
     "execution_count": 58,
     "metadata": {},
     "output_type": "execute_result"
    }
   ],
   "source": [
    "model.fit(data1,label1)"
   ]
  },
  {
   "cell_type": "code",
   "execution_count": 59,
   "id": "abroad-portable",
   "metadata": {},
   "outputs": [
    {
     "data": {
      "text/plain": [
       "{'C': 1.0,\n",
       " 'class_weight': None,\n",
       " 'dual': False,\n",
       " 'fit_intercept': True,\n",
       " 'intercept_scaling': 1,\n",
       " 'l1_ratio': None,\n",
       " 'max_iter': 100,\n",
       " 'multi_class': 'auto',\n",
       " 'n_jobs': None,\n",
       " 'penalty': 'l2',\n",
       " 'random_state': None,\n",
       " 'solver': 'lbfgs',\n",
       " 'tol': 0.0001,\n",
       " 'verbose': 0,\n",
       " 'warm_start': False}"
      ]
     },
     "metadata": {},
     "output_type": "display_data"
    }
   ],
   "source": [
    "display(model.get_params())"
   ]
  },
  {
   "cell_type": "code",
   "execution_count": 60,
   "id": "disabled-split",
   "metadata": {},
   "outputs": [
    {
     "data": {
      "text/plain": [
       "array([1], dtype=int64)"
      ]
     },
     "execution_count": 60,
     "metadata": {},
     "output_type": "execute_result"
    }
   ],
   "source": [
    "model.predict([[100]])"
   ]
  },
  {
   "cell_type": "code",
   "execution_count": 61,
   "id": "reasonable-peninsula",
   "metadata": {},
   "outputs": [
    {
     "data": {
      "text/plain": [
       "array([[0.35931275, 0.64068725]])"
      ]
     },
     "execution_count": 61,
     "metadata": {},
     "output_type": "execute_result"
    }
   ],
   "source": [
    "model.predict_proba([[100]])"
   ]
  },
  {
   "cell_type": "code",
   "execution_count": 62,
   "id": "endless-elements",
   "metadata": {},
   "outputs": [],
   "source": [
    "X_test_value = model.decision_function(data1)"
   ]
  },
  {
   "cell_type": "code",
   "execution_count": 63,
   "id": "alive-kennedy",
   "metadata": {},
   "outputs": [
    {
     "name": "stdout",
     "output_type": "stream",
     "text": [
      "[-0.94131796]\n",
      "[[0.01519666]]\n"
     ]
    }
   ],
   "source": [
    "print(model.intercept_)\n",
    "print(model.coef_)"
   ]
  },
  {
   "cell_type": "code",
   "execution_count": 64,
   "id": "protected-soldier",
   "metadata": {},
   "outputs": [],
   "source": [
    "w_0 = model.intercept_[0]\n",
    "w_1 = model.coef_[0,0]"
   ]
  },
  {
   "cell_type": "code",
   "execution_count": 65,
   "id": "inside-center",
   "metadata": {},
   "outputs": [],
   "source": [
    "def sigmoid(x):\n",
    "    return 1/(1+np.exp(-(w_1*x+w_0)))"
   ]
  },
  {
   "cell_type": "code",
   "execution_count": 66,
   "id": "approximate-apartment",
   "metadata": {},
   "outputs": [
    {
     "name": "stderr",
     "output_type": "stream",
     "text": [
      "No handles with labels found to put in legend.\n"
     ]
    },
    {
     "data": {
      "image/png": "[encoded data removed]",
      "text/plain": [
       "<Figure size 648x360 with 1 Axes>"
      ]
     },
     "metadata": {
      "needs_background": "light"
     },
     "output_type": "display_data"
    }
   ],
   "source": [
    "x_range=np.linspace(-1,500,3000)\n",
    "\n",
    "plt.figure(figsize=(9,5))\n",
    "plt.legend(loc=2)\n",
    "\n",
    "plt.plot(data1,np.zeros(len(data1)),'o')\n",
    "plt.plot(data1, model.predict_proba(data1),'o')\n",
    "plt.plot(x_range, sigmoid(x_range),'-')\n",
    "plt.show()    "
   ]
  },
  {
   "cell_type": "markdown",
   "id": "elegant-wichita",
   "metadata": {},
   "source": [
    "### ロジスティック回帰：2変数"
   ]
  },
  {
   "cell_type": "code",
   "execution_count": 67,
   "id": "horizontal-credit",
   "metadata": {},
   "outputs": [],
   "source": [
    "titanic_df['Gender'] = titanic_df['Sex'].map({'female':0,'male':1}).astype(int)"
   ]
  },
  {
   "cell_type": "code",
   "execution_count": 68,
   "id": "higher-check",
   "metadata": {},
   "outputs": [],
   "source": [
    "titanic_df['Pclass_Gender'] = titanic_df['Pclass']+titanic_df['Gender']"
   ]
  },
  {
   "cell_type": "code",
   "execution_count": 69,
   "id": "institutional-collapse",
   "metadata": {},
   "outputs": [],
   "source": [
    "titanic_df2 = titanic_df.drop(['Pclass','Sex','Gender','Age'],axis=1)"
   ]
  },
  {
   "cell_type": "code",
   "execution_count": 70,
   "id": "tutorial-score",
   "metadata": {},
   "outputs": [
    {
     "data": {
      "text/html": [
       "<div>\n",
       "<style scoped>\n",
       "    .dataframe tbody tr th:only-of-type {\n",
       "        vertical-align: middle;\n",
       "    }\n",
       "\n",
       "    .dataframe tbody tr th {\n",
       "        vertical-align: top;\n",
       "    }\n",
       "\n",
       "    .dataframe thead th {\n",
       "        text-align: right;\n",
       "    }\n",
       "</style>\n",
       "<table border=\"1\" class=\"dataframe\">\n",
       "  <thead>\n",
       "    <tr style=\"text-align: right;\">\n",
       "      <th></th>\n",
       "      <th>Survived</th>\n",
       "      <th>SibSp</th>\n",
       "      <th>Parch</th>\n",
       "      <th>Fare</th>\n",
       "      <th>Embarked</th>\n",
       "      <th>AgeFill</th>\n",
       "      <th>Pclass_Gender</th>\n",
       "    </tr>\n",
       "  </thead>\n",
       "  <tbody>\n",
       "    <tr>\n",
       "      <th>0</th>\n",
       "      <td>0</td>\n",
       "      <td>1</td>\n",
       "      <td>0</td>\n",
       "      <td>7.2500</td>\n",
       "      <td>S</td>\n",
       "      <td>22.0</td>\n",
       "      <td>4</td>\n",
       "    </tr>\n",
       "    <tr>\n",
       "      <th>1</th>\n",
       "      <td>1</td>\n",
       "      <td>1</td>\n",
       "      <td>0</td>\n",
       "      <td>71.2833</td>\n",
       "      <td>C</td>\n",
       "      <td>38.0</td>\n",
       "      <td>1</td>\n",
       "    </tr>\n",
       "    <tr>\n",
       "      <th>2</th>\n",
       "      <td>1</td>\n",
       "      <td>0</td>\n",
       "      <td>0</td>\n",
       "      <td>7.9250</td>\n",
       "      <td>S</td>\n",
       "      <td>26.0</td>\n",
       "      <td>3</td>\n",
       "    </tr>\n",
       "    <tr>\n",
       "      <th>3</th>\n",
       "      <td>1</td>\n",
       "      <td>1</td>\n",
       "      <td>0</td>\n",
       "      <td>53.1000</td>\n",
       "      <td>S</td>\n",
       "      <td>35.0</td>\n",
       "      <td>1</td>\n",
       "    </tr>\n",
       "    <tr>\n",
       "      <th>4</th>\n",
       "      <td>0</td>\n",
       "      <td>0</td>\n",
       "      <td>0</td>\n",
       "      <td>8.0500</td>\n",
       "      <td>S</td>\n",
       "      <td>35.0</td>\n",
       "      <td>4</td>\n",
       "    </tr>\n",
       "  </tbody>\n",
       "</table>\n",
       "</div>"
      ],
      "text/plain": [
       "   Survived  SibSp  Parch     Fare Embarked  AgeFill  Pclass_Gender\n",
       "0         0      1      0   7.2500        S     22.0              4\n",
       "1         1      1      0  71.2833        C     38.0              1\n",
       "2         1      0      0   7.9250        S     26.0              3\n",
       "3         1      1      0  53.1000        S     35.0              1\n",
       "4         0      0      0   8.0500        S     35.0              4"
      ]
     },
     "execution_count": 70,
     "metadata": {},
     "output_type": "execute_result"
    }
   ],
   "source": [
    "titanic_df2.head()"
   ]
  },
  {
   "cell_type": "markdown",
   "id": "revised-break",
   "metadata": {},
   "source": [
    "2変数からということなので、とりあえず、FareとAgeFillを使ってみる。"
   ]
  },
  {
   "cell_type": "code",
   "execution_count": 71,
   "id": "worthy-reality",
   "metadata": {},
   "outputs": [],
   "source": [
    "data2 = titanic_df2.loc[:,[\"Fare\",\"AgeFill\"]].values\n",
    "label2 = titanic_df2.loc[:,[\"Survived\"]].values.ravel()"
   ]
  },
  {
   "cell_type": "code",
   "execution_count": 72,
   "id": "working-mechanism",
   "metadata": {},
   "outputs": [],
   "source": [
    "model2 = LogisticRegression()"
   ]
  },
  {
   "cell_type": "code",
   "execution_count": 73,
   "id": "current-texas",
   "metadata": {},
   "outputs": [
    {
     "data": {
      "text/plain": [
       "LogisticRegression()"
      ]
     },
     "execution_count": 73,
     "metadata": {},
     "output_type": "execute_result"
    }
   ],
   "source": [
    "model2.fit(data2,label2)"
   ]
  },
  {
   "cell_type": "code",
   "execution_count": 77,
   "id": "continental-morris",
   "metadata": {},
   "outputs": [
    {
     "data": {
      "text/plain": [
       "array([1], dtype=int64)"
      ]
     },
     "execution_count": 77,
     "metadata": {},
     "output_type": "execute_result"
    }
   ],
   "source": [
    "# 運賃100ドル、25歳の場合は生き残ると予想するかをチェック\n",
    "model2.predict([[100, 25]])"
   ]
  },
  {
   "cell_type": "code",
   "execution_count": 78,
   "id": "refined-undergraduate",
   "metadata": {},
   "outputs": [
    {
     "data": {
      "text/plain": [
       "array([[0.32583309, 0.67416691]])"
      ]
     },
     "execution_count": 78,
     "metadata": {},
     "output_type": "execute_result"
    }
   ],
   "source": [
    "# 上記条件で、生き残る確率を予想。\n",
    "model2.predict_proba([[100, 25]])"
   ]
  },
  {
   "cell_type": "code",
   "execution_count": 79,
   "id": "valid-person",
   "metadata": {},
   "outputs": [
    {
     "data": {
      "text/html": [
       "<div>\n",
       "<style scoped>\n",
       "    .dataframe tbody tr th:only-of-type {\n",
       "        vertical-align: middle;\n",
       "    }\n",
       "\n",
       "    .dataframe tbody tr th {\n",
       "        vertical-align: top;\n",
       "    }\n",
       "\n",
       "    .dataframe thead th {\n",
       "        text-align: right;\n",
       "    }\n",
       "</style>\n",
       "<table border=\"1\" class=\"dataframe\">\n",
       "  <thead>\n",
       "    <tr style=\"text-align: right;\">\n",
       "      <th></th>\n",
       "      <th>Survived</th>\n",
       "      <th>Pclass</th>\n",
       "      <th>Age</th>\n",
       "      <th>SibSp</th>\n",
       "      <th>Parch</th>\n",
       "      <th>Fare</th>\n",
       "      <th>AgeFill</th>\n",
       "      <th>Gender</th>\n",
       "      <th>Pclass_Gender</th>\n",
       "    </tr>\n",
       "  </thead>\n",
       "  <tbody>\n",
       "    <tr>\n",
       "      <th>count</th>\n",
       "      <td>891.000000</td>\n",
       "      <td>891.000000</td>\n",
       "      <td>714.000000</td>\n",
       "      <td>891.000000</td>\n",
       "      <td>891.000000</td>\n",
       "      <td>891.000000</td>\n",
       "      <td>891.000000</td>\n",
       "      <td>891.000000</td>\n",
       "      <td>891.000000</td>\n",
       "    </tr>\n",
       "    <tr>\n",
       "      <th>mean</th>\n",
       "      <td>0.383838</td>\n",
       "      <td>2.308642</td>\n",
       "      <td>29.699118</td>\n",
       "      <td>0.523008</td>\n",
       "      <td>0.381594</td>\n",
       "      <td>32.204208</td>\n",
       "      <td>29.699118</td>\n",
       "      <td>0.647587</td>\n",
       "      <td>2.956229</td>\n",
       "    </tr>\n",
       "    <tr>\n",
       "      <th>std</th>\n",
       "      <td>0.486592</td>\n",
       "      <td>0.836071</td>\n",
       "      <td>14.526497</td>\n",
       "      <td>1.102743</td>\n",
       "      <td>0.806057</td>\n",
       "      <td>49.693429</td>\n",
       "      <td>13.002015</td>\n",
       "      <td>0.477990</td>\n",
       "      <td>1.016323</td>\n",
       "    </tr>\n",
       "    <tr>\n",
       "      <th>min</th>\n",
       "      <td>0.000000</td>\n",
       "      <td>1.000000</td>\n",
       "      <td>0.420000</td>\n",
       "      <td>0.000000</td>\n",
       "      <td>0.000000</td>\n",
       "      <td>0.000000</td>\n",
       "      <td>0.420000</td>\n",
       "      <td>0.000000</td>\n",
       "      <td>1.000000</td>\n",
       "    </tr>\n",
       "    <tr>\n",
       "      <th>25%</th>\n",
       "      <td>0.000000</td>\n",
       "      <td>2.000000</td>\n",
       "      <td>20.125000</td>\n",
       "      <td>0.000000</td>\n",
       "      <td>0.000000</td>\n",
       "      <td>7.910400</td>\n",
       "      <td>22.000000</td>\n",
       "      <td>0.000000</td>\n",
       "      <td>2.000000</td>\n",
       "    </tr>\n",
       "    <tr>\n",
       "      <th>50%</th>\n",
       "      <td>0.000000</td>\n",
       "      <td>3.000000</td>\n",
       "      <td>28.000000</td>\n",
       "      <td>0.000000</td>\n",
       "      <td>0.000000</td>\n",
       "      <td>14.454200</td>\n",
       "      <td>29.699118</td>\n",
       "      <td>1.000000</td>\n",
       "      <td>3.000000</td>\n",
       "    </tr>\n",
       "    <tr>\n",
       "      <th>75%</th>\n",
       "      <td>1.000000</td>\n",
       "      <td>3.000000</td>\n",
       "      <td>38.000000</td>\n",
       "      <td>1.000000</td>\n",
       "      <td>0.000000</td>\n",
       "      <td>31.000000</td>\n",
       "      <td>35.000000</td>\n",
       "      <td>1.000000</td>\n",
       "      <td>4.000000</td>\n",
       "    </tr>\n",
       "    <tr>\n",
       "      <th>max</th>\n",
       "      <td>1.000000</td>\n",
       "      <td>3.000000</td>\n",
       "      <td>80.000000</td>\n",
       "      <td>8.000000</td>\n",
       "      <td>6.000000</td>\n",
       "      <td>512.329200</td>\n",
       "      <td>80.000000</td>\n",
       "      <td>1.000000</td>\n",
       "      <td>4.000000</td>\n",
       "    </tr>\n",
       "  </tbody>\n",
       "</table>\n",
       "</div>"
      ],
      "text/plain": [
       "         Survived      Pclass         Age       SibSp       Parch        Fare  \\\n",
       "count  891.000000  891.000000  714.000000  891.000000  891.000000  891.000000   \n",
       "mean     0.383838    2.308642   29.699118    0.523008    0.381594   32.204208   \n",
       "std      0.486592    0.836071   14.526497    1.102743    0.806057   49.693429   \n",
       "min      0.000000    1.000000    0.420000    0.000000    0.000000    0.000000   \n",
       "25%      0.000000    2.000000   20.125000    0.000000    0.000000    7.910400   \n",
       "50%      0.000000    3.000000   28.000000    0.000000    0.000000   14.454200   \n",
       "75%      1.000000    3.000000   38.000000    1.000000    0.000000   31.000000   \n",
       "max      1.000000    3.000000   80.000000    8.000000    6.000000  512.329200   \n",
       "\n",
       "          AgeFill      Gender  Pclass_Gender  \n",
       "count  891.000000  891.000000     891.000000  \n",
       "mean    29.699118    0.647587       2.956229  \n",
       "std     13.002015    0.477990       1.016323  \n",
       "min      0.420000    0.000000       1.000000  \n",
       "25%     22.000000    0.000000       2.000000  \n",
       "50%     29.699118    1.000000       3.000000  \n",
       "75%     35.000000    1.000000       4.000000  \n",
       "max     80.000000    1.000000       4.000000  "
      ]
     },
     "execution_count": 79,
     "metadata": {},
     "output_type": "execute_result"
    }
   ],
   "source": [
    "titanic_df.describe()"
   ]
  },
  {
   "cell_type": "markdown",
   "id": "collective-denmark",
   "metadata": {},
   "source": [
    "以下、30代男性の生き残る確率予測を行う。  \n",
    "ここでは、'Gender'と'AgeFill'を用いて,'Servived'のロジスティック回帰を行う。"
   ]
  },
  {
   "cell_type": "code",
   "execution_count": 80,
   "id": "thousand-ambassador",
   "metadata": {},
   "outputs": [],
   "source": [
    "data3 = titanic_df.loc[:,[\"AgeFill\",\"Gender\"]].values\n",
    "label3 = titanic_df.loc[:,[\"Survived\"]].values.ravel()"
   ]
  },
  {
   "cell_type": "code",
   "execution_count": 81,
   "id": "blank-packing",
   "metadata": {},
   "outputs": [],
   "source": [
    "model3 = LogisticRegression()"
   ]
  },
  {
   "cell_type": "code",
   "execution_count": 82,
   "id": "growing-dance",
   "metadata": {},
   "outputs": [
    {
     "data": {
      "text/plain": [
       "LogisticRegression()"
      ]
     },
     "execution_count": 82,
     "metadata": {},
     "output_type": "execute_result"
    }
   ],
   "source": [
    "model3.fit(data3,label3)"
   ]
  },
  {
   "cell_type": "code",
   "execution_count": 91,
   "id": "former-combine",
   "metadata": {},
   "outputs": [
    {
     "name": "stdout",
     "output_type": "stream",
     "text": [
      "30歳:0.19332\n",
      "31歳:0.19244\n",
      "32歳:0.19157\n",
      "33歳:0.19070\n",
      "34歳:0.18984\n",
      "35歳:0.18898\n",
      "36歳:0.18812\n",
      "37歳:0.18726\n",
      "38歳:0.18641\n",
      "39歳:0.18555\n"
     ]
    }
   ],
   "source": [
    "# 30代男性の生き残る確率予測を行う\n",
    "for i in range(30,40):\n",
    "    print(str(i) + \"歳:\",end = \"\")\n",
    "    print(\"{:.5f}\".format(model3.predict_proba([[i,1]])[0,1]))"
   ]
  },
  {
   "cell_type": "code",
   "execution_count": null,
   "id": "arranged-segment",
   "metadata": {},
   "outputs": [],
   "source": []
  }
 ],
 "metadata": {
  "kernelspec": {
   "display_name": "Python 3",
   "language": "python",
   "name": "python3"
  },
  "language_info": {
   "codemirror_mode": {
    "name": "ipython",
    "version": 3
   },
   "file_extension": ".py",
   "mimetype": "text/x-python",
   "name": "python",
   "nbconvert_exporter": "python",
   "pygments_lexer": "ipython3",
   "version": "3.8.5"
  }
 },
 "nbformat": 4,
 "nbformat_minor": 5
}
