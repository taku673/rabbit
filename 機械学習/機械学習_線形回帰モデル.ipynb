{
 "cells": [
  {
   "cell_type": "markdown",
   "id": "greenhouse-jonathan",
   "metadata": {},
   "source": [
    "# 機械学習\n",
    "## 線形回帰モデル"
   ]
  },
  {
   "cell_type": "markdown",
   "id": "sixth-radar",
   "metadata": {},
   "source": [
    "- 機械学習モデリングプロセス  \n",
    "機械学習による問題解決は、一般に下記のプロセスで進める。  \n",
    "  \n",
    "1. 問題設定  \n",
    "（本当に機械学習で解決する必要があるか？　データ数が足りるか？　ビジネス価値に対して労力が見合うか？など）\n",
    "2. データ選定  \n",
    " (GIGOに注意。データを適切に集めなければ、適切な分析はできない）\n",
    "3. データの前処理  \n",
    " (クレンジング。欠損値や外れ値の処理など）\n",
    "4. 機械学習モデルの選定  \n",
    " (線形回帰、ロジスティック回帰、SVM、深層学習、k-means、PCA、knnなど)  \n",
    "5. モデルの学習（パラメータ推定）  \n",
    "6. モデルの評価"
   ]
  },
  {
   "cell_type": "markdown",
   "id": "talented-register",
   "metadata": {},
   "source": [
    "- 機械学習モデル概要  \n",
    "大きく2つにわけられる。\n",
    "1. 教師あり学習  \n",
    "予測（回帰）あるいは分類を行う。\n",
    "2. 教師なし学習  \n",
    "クラスタリングあるいは次元削減などを行う。  \n",
    "※ 半教師あり学習のような手法もある。（※ 強化学習は教師なしに含む？）  "
   ]
  },
  {
   "cell_type": "markdown",
   "id": "professional-heath",
   "metadata": {},
   "source": [
    "- 線形とは？  \n",
    "$y=ax+b$とか$z=ax+by+c$など。  \n",
    "n次元空間だと、$y=a0+\\sum a_i x_i$のようにあらわせる。  \n",
    "x0=1とすれば、$y=\\sum a_i x_i$とまとめられる。  \n",
    "さらに、$a_i$、$x_i$を並べてできるベクトルを$\\mathbf{a}$、$\\mathbf{x}$とすると、$y = \\mathbf{a}^T\\cdot\\mathbf{x}$ とできる。"
   ]
  },
  {
   "cell_type": "markdown",
   "id": "irish-involvement",
   "metadata": {},
   "source": [
    "- 回帰問題  \n",
    "ある入力から出力（連続値、多くのケースは実数）の予想をする。  \n",
    "※ ランキング問題などにも使える。ただし、バプニックの原理に従うと望ましくない……。  \n",
    "※ 参考：密度比推定（杉山将）  \n",
    "- 回帰で扱うデータ  \n",
    "入力（特徴量 or 説明変数）$ \\in\\mathbb{R}^m $、出力（目的変数） $\\in\\mathbb{R}^1$"
   ]
  },
  {
   "cell_type": "markdown",
   "id": "creative-compiler",
   "metadata": {},
   "source": [
    "- 線形回帰モデル  \n",
    "教師あり学習の一種（目的変数まで含めた既存データが必要）  \n",
    "$\\hat{y}=\\mathbf{w}^T\\mathbf{x} + w_0$のパラメータ（係数ベクトルと切片）を求めることになる。  \n",
    "- パラメータの決め方  \n",
    "既存データを「よく説明」できるように決めていく。  \n",
    "つまり、あるデータに対して、$y=w_0+w_1x_1+\\epsilon$とたときに、$\\epsilon$が小さいほうが良い回帰である（良いパラメータである）と言える。  \n",
    "傾向を与えうる情報を説明変数に含められていない場合は、誤差項がそのずれを回収している。\n",
    "※ 誤差には、偶然誤差と系統誤差がある。  \n",
    "- 連立方程式の行列表現  \n",
    "$\\mathbf{y} = \\mathbf{X}\\mathbf{w}+\\mathbf{\\epsilon}$  \n",
    "仮に、データ数n、説明変数1つならy:n×1、X:n×2、w:2×1、($\\epsilon$:n×1)の形。\n",
    "- 説明変数が多次元の場合\n",
    "線形重回帰モデルを使う。単回帰は直線、重回帰は曲面（曲面も正しいが、\"直線\"に合わせるなら、平面）。  \n",
    "$\\mathbf{y} = \\mathbf{X}\\mathbf{w}$を計画行列などという。  \n",
    "- 連立方程式を解ける条件  \n",
    "変数の数＞＝式の数、だと（普通は）解けない。  "
   ]
  },
  {
   "cell_type": "markdown",
   "id": "heated-hayes",
   "metadata": {},
   "source": [
    "※ 参考資料：機械学習のエッセンス（加藤公一） "
   ]
  },
  {
   "cell_type": "markdown",
   "id": "tough-precipitation",
   "metadata": {},
   "source": [
    "- データの扱い  \n",
    "データは、学習用データと検証用データに分ける。（過学習を避けるため）  \n",
    "汎化性能（Generalization）を測定する必要がある。  "
   ]
  },
  {
   "cell_type": "markdown",
   "id": "friendly-sculpture",
   "metadata": {},
   "source": [
    "- パラメータの決め方  \n",
    "誤差を小さくするために、線形回帰モデルでは、通常は最小二乗法で推定する。\n",
    "$\\sum \\epsilon^2$  \n",
    "2乗するのは、数学的な取り扱いを容易にするため。  \n",
    "※ 2乗損失を考えるのは、外れ値に弱い。Huber損失、Tukey損失などを考えればよい。  \n",
    "※ 参考資料：イラストで学ぶ機械学習（杉山将）  \n",
    "最小二乗誤差は、\n",
    "$$\n",
    "J(\\mathbf(w))=MSE_{train} =\\frac{1}{n_{train}}\\sum_{i=1}^{n_{train}}(\\hat{y}_i^{(train)}-y_i^{(train)})^2\n",
    "$$  \n",
    "と表される（$\\mathbb{w}$の関数）。  \n",
    "最小二乗法では、\n",
    "$$\n",
    "\\hat{\\mathbb{w}} = \\arg \\min_{\\mathbb{w}\\in\\mathbf{R}^{m+1}}MSE_{train}\n",
    "$$  \n",
    "を求める。(MSEは連続,全点微分可能,唯一の最小値を持つので）$\\hat{\\mathbb{w}}$を求めるには、$\\mathbb{w}$の各成分で偏微分したものが0となる式を解けばよい。  \n",
    "つまり、\n",
    "$$\n",
    "\\frac{\\partial}{\\partial \\mathbb{w}}MSE_{train}=0\n",
    "$$  \n",
    "あとは、各行列成分を計算して、\n",
    "$$\n",
    "\\hat{\\mathbb{w}}=(X^{(train)T}X^{(train)})^{-1}X^{(train)T}y^{(train)}\n",
    "$$  \n",
    "※ 解析的に解ける！！  \n",
    "逆行列は常に存在するわけではない。（その場合は、一般化逆行列を考える？）"
   ]
  },
  {
   "cell_type": "markdown",
   "id": "incident-hampshire",
   "metadata": {},
   "source": [
    "## 線形回帰（実計算with Python）  \n",
    "Pandas,Numpy等を使って、ボストンデータセットの解析を行う。"
   ]
  },
  {
   "cell_type": "markdown",
   "id": "referenced-worker",
   "metadata": {},
   "source": [
    "### データセット読み込み"
   ]
  },
  {
   "cell_type": "code",
   "execution_count": 3,
   "id": "together-bermuda",
   "metadata": {},
   "outputs": [],
   "source": [
    "from sklearn.datasets import load_boston\n",
    "import pandas as pd\n",
    "import numpy as np"
   ]
  },
  {
   "cell_type": "code",
   "execution_count": 4,
   "id": "neutral-distributor",
   "metadata": {},
   "outputs": [],
   "source": [
    "boston = load_boston()"
   ]
  },
  {
   "cell_type": "code",
   "execution_count": 8,
   "id": "waiting-production",
   "metadata": {},
   "outputs": [],
   "source": [
    "df=pd.DataFrame(data=boston.data, columns=boston.feature_names)\n",
    "df['PRICE']=np.array(boston.target)"
   ]
  },
  {
   "cell_type": "code",
   "execution_count": 9,
   "id": "concerned-qualification",
   "metadata": {},
   "outputs": [
    {
     "data": {
      "text/html": [
       "<div>\n",
       "<style scoped>\n",
       "    .dataframe tbody tr th:only-of-type {\n",
       "        vertical-align: middle;\n",
       "    }\n",
       "\n",
       "    .dataframe tbody tr th {\n",
       "        vertical-align: top;\n",
       "    }\n",
       "\n",
       "    .dataframe thead th {\n",
       "        text-align: right;\n",
       "    }\n",
       "</style>\n",
       "<table border=\"1\" class=\"dataframe\">\n",
       "  <thead>\n",
       "    <tr style=\"text-align: right;\">\n",
       "      <th></th>\n",
       "      <th>CRIM</th>\n",
       "      <th>ZN</th>\n",
       "      <th>INDUS</th>\n",
       "      <th>CHAS</th>\n",
       "      <th>NOX</th>\n",
       "      <th>RM</th>\n",
       "      <th>AGE</th>\n",
       "      <th>DIS</th>\n",
       "      <th>RAD</th>\n",
       "      <th>TAX</th>\n",
       "      <th>PTRATIO</th>\n",
       "      <th>B</th>\n",
       "      <th>LSTAT</th>\n",
       "      <th>PRICE</th>\n",
       "    </tr>\n",
       "  </thead>\n",
       "  <tbody>\n",
       "    <tr>\n",
       "      <th>count</th>\n",
       "      <td>506.000000</td>\n",
       "      <td>506.000000</td>\n",
       "      <td>506.000000</td>\n",
       "      <td>506.000000</td>\n",
       "      <td>506.000000</td>\n",
       "      <td>506.000000</td>\n",
       "      <td>506.000000</td>\n",
       "      <td>506.000000</td>\n",
       "      <td>506.000000</td>\n",
       "      <td>506.000000</td>\n",
       "      <td>506.000000</td>\n",
       "      <td>506.000000</td>\n",
       "      <td>506.000000</td>\n",
       "      <td>506.000000</td>\n",
       "    </tr>\n",
       "    <tr>\n",
       "      <th>mean</th>\n",
       "      <td>3.613524</td>\n",
       "      <td>11.363636</td>\n",
       "      <td>11.136779</td>\n",
       "      <td>0.069170</td>\n",
       "      <td>0.554695</td>\n",
       "      <td>6.284634</td>\n",
       "      <td>68.574901</td>\n",
       "      <td>3.795043</td>\n",
       "      <td>9.549407</td>\n",
       "      <td>408.237154</td>\n",
       "      <td>18.455534</td>\n",
       "      <td>356.674032</td>\n",
       "      <td>12.653063</td>\n",
       "      <td>22.532806</td>\n",
       "    </tr>\n",
       "    <tr>\n",
       "      <th>std</th>\n",
       "      <td>8.601545</td>\n",
       "      <td>23.322453</td>\n",
       "      <td>6.860353</td>\n",
       "      <td>0.253994</td>\n",
       "      <td>0.115878</td>\n",
       "      <td>0.702617</td>\n",
       "      <td>28.148861</td>\n",
       "      <td>2.105710</td>\n",
       "      <td>8.707259</td>\n",
       "      <td>168.537116</td>\n",
       "      <td>2.164946</td>\n",
       "      <td>91.294864</td>\n",
       "      <td>7.141062</td>\n",
       "      <td>9.197104</td>\n",
       "    </tr>\n",
       "    <tr>\n",
       "      <th>min</th>\n",
       "      <td>0.006320</td>\n",
       "      <td>0.000000</td>\n",
       "      <td>0.460000</td>\n",
       "      <td>0.000000</td>\n",
       "      <td>0.385000</td>\n",
       "      <td>3.561000</td>\n",
       "      <td>2.900000</td>\n",
       "      <td>1.129600</td>\n",
       "      <td>1.000000</td>\n",
       "      <td>187.000000</td>\n",
       "      <td>12.600000</td>\n",
       "      <td>0.320000</td>\n",
       "      <td>1.730000</td>\n",
       "      <td>5.000000</td>\n",
       "    </tr>\n",
       "    <tr>\n",
       "      <th>25%</th>\n",
       "      <td>0.082045</td>\n",
       "      <td>0.000000</td>\n",
       "      <td>5.190000</td>\n",
       "      <td>0.000000</td>\n",
       "      <td>0.449000</td>\n",
       "      <td>5.885500</td>\n",
       "      <td>45.025000</td>\n",
       "      <td>2.100175</td>\n",
       "      <td>4.000000</td>\n",
       "      <td>279.000000</td>\n",
       "      <td>17.400000</td>\n",
       "      <td>375.377500</td>\n",
       "      <td>6.950000</td>\n",
       "      <td>17.025000</td>\n",
       "    </tr>\n",
       "    <tr>\n",
       "      <th>50%</th>\n",
       "      <td>0.256510</td>\n",
       "      <td>0.000000</td>\n",
       "      <td>9.690000</td>\n",
       "      <td>0.000000</td>\n",
       "      <td>0.538000</td>\n",
       "      <td>6.208500</td>\n",
       "      <td>77.500000</td>\n",
       "      <td>3.207450</td>\n",
       "      <td>5.000000</td>\n",
       "      <td>330.000000</td>\n",
       "      <td>19.050000</td>\n",
       "      <td>391.440000</td>\n",
       "      <td>11.360000</td>\n",
       "      <td>21.200000</td>\n",
       "    </tr>\n",
       "    <tr>\n",
       "      <th>75%</th>\n",
       "      <td>3.677083</td>\n",
       "      <td>12.500000</td>\n",
       "      <td>18.100000</td>\n",
       "      <td>0.000000</td>\n",
       "      <td>0.624000</td>\n",
       "      <td>6.623500</td>\n",
       "      <td>94.075000</td>\n",
       "      <td>5.188425</td>\n",
       "      <td>24.000000</td>\n",
       "      <td>666.000000</td>\n",
       "      <td>20.200000</td>\n",
       "      <td>396.225000</td>\n",
       "      <td>16.955000</td>\n",
       "      <td>25.000000</td>\n",
       "    </tr>\n",
       "    <tr>\n",
       "      <th>max</th>\n",
       "      <td>88.976200</td>\n",
       "      <td>100.000000</td>\n",
       "      <td>27.740000</td>\n",
       "      <td>1.000000</td>\n",
       "      <td>0.871000</td>\n",
       "      <td>8.780000</td>\n",
       "      <td>100.000000</td>\n",
       "      <td>12.126500</td>\n",
       "      <td>24.000000</td>\n",
       "      <td>711.000000</td>\n",
       "      <td>22.000000</td>\n",
       "      <td>396.900000</td>\n",
       "      <td>37.970000</td>\n",
       "      <td>50.000000</td>\n",
       "    </tr>\n",
       "  </tbody>\n",
       "</table>\n",
       "</div>"
      ],
      "text/plain": [
       "             CRIM          ZN       INDUS        CHAS         NOX          RM  \\\n",
       "count  506.000000  506.000000  506.000000  506.000000  506.000000  506.000000   \n",
       "mean     3.613524   11.363636   11.136779    0.069170    0.554695    6.284634   \n",
       "std      8.601545   23.322453    6.860353    0.253994    0.115878    0.702617   \n",
       "min      0.006320    0.000000    0.460000    0.000000    0.385000    3.561000   \n",
       "25%      0.082045    0.000000    5.190000    0.000000    0.449000    5.885500   \n",
       "50%      0.256510    0.000000    9.690000    0.000000    0.538000    6.208500   \n",
       "75%      3.677083   12.500000   18.100000    0.000000    0.624000    6.623500   \n",
       "max     88.976200  100.000000   27.740000    1.000000    0.871000    8.780000   \n",
       "\n",
       "              AGE         DIS         RAD         TAX     PTRATIO           B  \\\n",
       "count  506.000000  506.000000  506.000000  506.000000  506.000000  506.000000   \n",
       "mean    68.574901    3.795043    9.549407  408.237154   18.455534  356.674032   \n",
       "std     28.148861    2.105710    8.707259  168.537116    2.164946   91.294864   \n",
       "min      2.900000    1.129600    1.000000  187.000000   12.600000    0.320000   \n",
       "25%     45.025000    2.100175    4.000000  279.000000   17.400000  375.377500   \n",
       "50%     77.500000    3.207450    5.000000  330.000000   19.050000  391.440000   \n",
       "75%     94.075000    5.188425   24.000000  666.000000   20.200000  396.225000   \n",
       "max    100.000000   12.126500   24.000000  711.000000   22.000000  396.900000   \n",
       "\n",
       "            LSTAT       PRICE  \n",
       "count  506.000000  506.000000  \n",
       "mean    12.653063   22.532806  \n",
       "std      7.141062    9.197104  \n",
       "min      1.730000    5.000000  \n",
       "25%      6.950000   17.025000  \n",
       "50%     11.360000   21.200000  \n",
       "75%     16.955000   25.000000  \n",
       "max     37.970000   50.000000  "
      ]
     },
     "execution_count": 9,
     "metadata": {},
     "output_type": "execute_result"
    }
   ],
   "source": [
    "df.describe()"
   ]
  },
  {
   "cell_type": "code",
   "execution_count": 10,
   "id": "favorite-alpha",
   "metadata": {},
   "outputs": [
    {
     "data": {
      "text/html": [
       "<div>\n",
       "<style scoped>\n",
       "    .dataframe tbody tr th:only-of-type {\n",
       "        vertical-align: middle;\n",
       "    }\n",
       "\n",
       "    .dataframe tbody tr th {\n",
       "        vertical-align: top;\n",
       "    }\n",
       "\n",
       "    .dataframe thead th {\n",
       "        text-align: right;\n",
       "    }\n",
       "</style>\n",
       "<table border=\"1\" class=\"dataframe\">\n",
       "  <thead>\n",
       "    <tr style=\"text-align: right;\">\n",
       "      <th></th>\n",
       "      <th>CRIM</th>\n",
       "      <th>ZN</th>\n",
       "      <th>INDUS</th>\n",
       "      <th>CHAS</th>\n",
       "      <th>NOX</th>\n",
       "      <th>RM</th>\n",
       "      <th>AGE</th>\n",
       "      <th>DIS</th>\n",
       "      <th>RAD</th>\n",
       "      <th>TAX</th>\n",
       "      <th>PTRATIO</th>\n",
       "      <th>B</th>\n",
       "      <th>LSTAT</th>\n",
       "      <th>PRICE</th>\n",
       "    </tr>\n",
       "  </thead>\n",
       "  <tbody>\n",
       "    <tr>\n",
       "      <th>0</th>\n",
       "      <td>0.00632</td>\n",
       "      <td>18.0</td>\n",
       "      <td>2.31</td>\n",
       "      <td>0.0</td>\n",
       "      <td>0.538</td>\n",
       "      <td>6.575</td>\n",
       "      <td>65.2</td>\n",
       "      <td>4.0900</td>\n",
       "      <td>1.0</td>\n",
       "      <td>296.0</td>\n",
       "      <td>15.3</td>\n",
       "      <td>396.90</td>\n",
       "      <td>4.98</td>\n",
       "      <td>24.0</td>\n",
       "    </tr>\n",
       "    <tr>\n",
       "      <th>1</th>\n",
       "      <td>0.02731</td>\n",
       "      <td>0.0</td>\n",
       "      <td>7.07</td>\n",
       "      <td>0.0</td>\n",
       "      <td>0.469</td>\n",
       "      <td>6.421</td>\n",
       "      <td>78.9</td>\n",
       "      <td>4.9671</td>\n",
       "      <td>2.0</td>\n",
       "      <td>242.0</td>\n",
       "      <td>17.8</td>\n",
       "      <td>396.90</td>\n",
       "      <td>9.14</td>\n",
       "      <td>21.6</td>\n",
       "    </tr>\n",
       "    <tr>\n",
       "      <th>2</th>\n",
       "      <td>0.02729</td>\n",
       "      <td>0.0</td>\n",
       "      <td>7.07</td>\n",
       "      <td>0.0</td>\n",
       "      <td>0.469</td>\n",
       "      <td>7.185</td>\n",
       "      <td>61.1</td>\n",
       "      <td>4.9671</td>\n",
       "      <td>2.0</td>\n",
       "      <td>242.0</td>\n",
       "      <td>17.8</td>\n",
       "      <td>392.83</td>\n",
       "      <td>4.03</td>\n",
       "      <td>34.7</td>\n",
       "    </tr>\n",
       "    <tr>\n",
       "      <th>3</th>\n",
       "      <td>0.03237</td>\n",
       "      <td>0.0</td>\n",
       "      <td>2.18</td>\n",
       "      <td>0.0</td>\n",
       "      <td>0.458</td>\n",
       "      <td>6.998</td>\n",
       "      <td>45.8</td>\n",
       "      <td>6.0622</td>\n",
       "      <td>3.0</td>\n",
       "      <td>222.0</td>\n",
       "      <td>18.7</td>\n",
       "      <td>394.63</td>\n",
       "      <td>2.94</td>\n",
       "      <td>33.4</td>\n",
       "    </tr>\n",
       "    <tr>\n",
       "      <th>4</th>\n",
       "      <td>0.06905</td>\n",
       "      <td>0.0</td>\n",
       "      <td>2.18</td>\n",
       "      <td>0.0</td>\n",
       "      <td>0.458</td>\n",
       "      <td>7.147</td>\n",
       "      <td>54.2</td>\n",
       "      <td>6.0622</td>\n",
       "      <td>3.0</td>\n",
       "      <td>222.0</td>\n",
       "      <td>18.7</td>\n",
       "      <td>396.90</td>\n",
       "      <td>5.33</td>\n",
       "      <td>36.2</td>\n",
       "    </tr>\n",
       "    <tr>\n",
       "      <th>5</th>\n",
       "      <td>0.02985</td>\n",
       "      <td>0.0</td>\n",
       "      <td>2.18</td>\n",
       "      <td>0.0</td>\n",
       "      <td>0.458</td>\n",
       "      <td>6.430</td>\n",
       "      <td>58.7</td>\n",
       "      <td>6.0622</td>\n",
       "      <td>3.0</td>\n",
       "      <td>222.0</td>\n",
       "      <td>18.7</td>\n",
       "      <td>394.12</td>\n",
       "      <td>5.21</td>\n",
       "      <td>28.7</td>\n",
       "    </tr>\n",
       "    <tr>\n",
       "      <th>6</th>\n",
       "      <td>0.08829</td>\n",
       "      <td>12.5</td>\n",
       "      <td>7.87</td>\n",
       "      <td>0.0</td>\n",
       "      <td>0.524</td>\n",
       "      <td>6.012</td>\n",
       "      <td>66.6</td>\n",
       "      <td>5.5605</td>\n",
       "      <td>5.0</td>\n",
       "      <td>311.0</td>\n",
       "      <td>15.2</td>\n",
       "      <td>395.60</td>\n",
       "      <td>12.43</td>\n",
       "      <td>22.9</td>\n",
       "    </tr>\n",
       "    <tr>\n",
       "      <th>7</th>\n",
       "      <td>0.14455</td>\n",
       "      <td>12.5</td>\n",
       "      <td>7.87</td>\n",
       "      <td>0.0</td>\n",
       "      <td>0.524</td>\n",
       "      <td>6.172</td>\n",
       "      <td>96.1</td>\n",
       "      <td>5.9505</td>\n",
       "      <td>5.0</td>\n",
       "      <td>311.0</td>\n",
       "      <td>15.2</td>\n",
       "      <td>396.90</td>\n",
       "      <td>19.15</td>\n",
       "      <td>27.1</td>\n",
       "    </tr>\n",
       "    <tr>\n",
       "      <th>8</th>\n",
       "      <td>0.21124</td>\n",
       "      <td>12.5</td>\n",
       "      <td>7.87</td>\n",
       "      <td>0.0</td>\n",
       "      <td>0.524</td>\n",
       "      <td>5.631</td>\n",
       "      <td>100.0</td>\n",
       "      <td>6.0821</td>\n",
       "      <td>5.0</td>\n",
       "      <td>311.0</td>\n",
       "      <td>15.2</td>\n",
       "      <td>386.63</td>\n",
       "      <td>29.93</td>\n",
       "      <td>16.5</td>\n",
       "    </tr>\n",
       "    <tr>\n",
       "      <th>9</th>\n",
       "      <td>0.17004</td>\n",
       "      <td>12.5</td>\n",
       "      <td>7.87</td>\n",
       "      <td>0.0</td>\n",
       "      <td>0.524</td>\n",
       "      <td>6.004</td>\n",
       "      <td>85.9</td>\n",
       "      <td>6.5921</td>\n",
       "      <td>5.0</td>\n",
       "      <td>311.0</td>\n",
       "      <td>15.2</td>\n",
       "      <td>386.71</td>\n",
       "      <td>17.10</td>\n",
       "      <td>18.9</td>\n",
       "    </tr>\n",
       "  </tbody>\n",
       "</table>\n",
       "</div>"
      ],
      "text/plain": [
       "      CRIM    ZN  INDUS  CHAS    NOX     RM    AGE     DIS  RAD    TAX  \\\n",
       "0  0.00632  18.0   2.31   0.0  0.538  6.575   65.2  4.0900  1.0  296.0   \n",
       "1  0.02731   0.0   7.07   0.0  0.469  6.421   78.9  4.9671  2.0  242.0   \n",
       "2  0.02729   0.0   7.07   0.0  0.469  7.185   61.1  4.9671  2.0  242.0   \n",
       "3  0.03237   0.0   2.18   0.0  0.458  6.998   45.8  6.0622  3.0  222.0   \n",
       "4  0.06905   0.0   2.18   0.0  0.458  7.147   54.2  6.0622  3.0  222.0   \n",
       "5  0.02985   0.0   2.18   0.0  0.458  6.430   58.7  6.0622  3.0  222.0   \n",
       "6  0.08829  12.5   7.87   0.0  0.524  6.012   66.6  5.5605  5.0  311.0   \n",
       "7  0.14455  12.5   7.87   0.0  0.524  6.172   96.1  5.9505  5.0  311.0   \n",
       "8  0.21124  12.5   7.87   0.0  0.524  5.631  100.0  6.0821  5.0  311.0   \n",
       "9  0.17004  12.5   7.87   0.0  0.524  6.004   85.9  6.5921  5.0  311.0   \n",
       "\n",
       "   PTRATIO       B  LSTAT  PRICE  \n",
       "0     15.3  396.90   4.98   24.0  \n",
       "1     17.8  396.90   9.14   21.6  \n",
       "2     17.8  392.83   4.03   34.7  \n",
       "3     18.7  394.63   2.94   33.4  \n",
       "4     18.7  396.90   5.33   36.2  \n",
       "5     18.7  394.12   5.21   28.7  \n",
       "6     15.2  395.60  12.43   22.9  \n",
       "7     15.2  396.90  19.15   27.1  \n",
       "8     15.2  386.63  29.93   16.5  \n",
       "9     15.2  386.71  17.10   18.9  "
      ]
     },
     "execution_count": 10,
     "metadata": {},
     "output_type": "execute_result"
    }
   ],
   "source": [
    "df.head(10)"
   ]
  },
  {
   "cell_type": "markdown",
   "id": "global-coaching",
   "metadata": {},
   "source": [
    "### 単回帰分析  \n",
    "RMを利用する。"
   ]
  },
  {
   "cell_type": "markdown",
   "id": "excess-ivory",
   "metadata": {},
   "source": [
    "#### sklearnを使用"
   ]
  },
  {
   "cell_type": "code",
   "execution_count": 59,
   "id": "colonial-maryland",
   "metadata": {},
   "outputs": [],
   "source": [
    "data = df.RM.values.reshape(-1,1)\n",
    "target = df.PRICE.values.reshape(-1,1)"
   ]
  },
  {
   "cell_type": "code",
   "execution_count": 60,
   "id": "cathedral-relations",
   "metadata": {},
   "outputs": [],
   "source": [
    "from sklearn.linear_model import LinearRegression"
   ]
  },
  {
   "cell_type": "code",
   "execution_count": 61,
   "id": "common-jesus",
   "metadata": {},
   "outputs": [
    {
     "data": {
      "text/plain": [
       "LinearRegression()"
      ]
     },
     "execution_count": 61,
     "metadata": {},
     "output_type": "execute_result"
    }
   ],
   "source": [
    "model = LinearRegression()\n",
    "model.fit(data, target)"
   ]
  },
  {
   "cell_type": "code",
   "execution_count": 62,
   "id": "selected-intermediate",
   "metadata": {},
   "outputs": [
    {
     "data": {
      "text/plain": [
       "array([[-25.5685118]])"
      ]
     },
     "execution_count": 62,
     "metadata": {},
     "output_type": "execute_result"
    }
   ],
   "source": [
    "model.predict([[1]])"
   ]
  },
  {
   "cell_type": "code",
   "execution_count": 63,
   "id": "formal-tradition",
   "metadata": {},
   "outputs": [
    {
     "data": {
      "text/plain": [
       "array([[56.35046904]])"
      ]
     },
     "execution_count": 63,
     "metadata": {},
     "output_type": "execute_result"
    }
   ],
   "source": [
    "buf = 10\n",
    "model.predict([[buf]])"
   ]
  },
  {
   "cell_type": "code",
   "execution_count": 64,
   "id": "chronic-engine",
   "metadata": {},
   "outputs": [
    {
     "name": "stdout",
     "output_type": "stream",
     "text": [
      "[[9.10210898]]\n",
      "[-34.67062078]\n"
     ]
    }
   ],
   "source": [
    "print(model.coef_)\n",
    "print(model.intercept_)"
   ]
  },
  {
   "cell_type": "markdown",
   "id": "intermediate-pursuit",
   "metadata": {},
   "source": [
    "#### numpyで計算\n",
    "sklearnを使わない場合"
   ]
  },
  {
   "cell_type": "code",
   "execution_count": 65,
   "id": "threaded-restaurant",
   "metadata": {},
   "outputs": [],
   "source": [
    "data_buf = np.concatenate((np.ones(data.shape[0]).reshape(-1,1),data),axis=1)"
   ]
  },
  {
   "cell_type": "code",
   "execution_count": 66,
   "id": "offensive-jungle",
   "metadata": {},
   "outputs": [],
   "source": [
    "what = np.linalg.inv(data_buf.T.dot(data_buf)).dot(data_buf.T).dot(target)"
   ]
  },
  {
   "cell_type": "code",
   "execution_count": 67,
   "id": "curious-lobby",
   "metadata": {},
   "outputs": [
    {
     "name": "stdout",
     "output_type": "stream",
     "text": [
      "[[-34.67062078]\n",
      " [  9.10210898]]\n"
     ]
    }
   ],
   "source": [
    "print(what)"
   ]
  },
  {
   "cell_type": "code",
   "execution_count": 68,
   "id": "interested-vegetation",
   "metadata": {},
   "outputs": [
    {
     "name": "stdout",
     "output_type": "stream",
     "text": [
      "[[-25.5685118]]\n",
      "[[56.35046904]]\n"
     ]
    }
   ],
   "source": [
    "#predict sklearnを使った場合と一致する。\n",
    "print(np.array([[1,1]]).dot(what))\n",
    "print(np.array([[1,buf]]).dot(what))"
   ]
  },
  {
   "cell_type": "markdown",
   "id": "tamil-terrace",
   "metadata": {},
   "source": [
    "RM=1でうまくいかないのは、外挿になっているからだと思われる。  \n",
    "RMは一戸あたりの平均部屋数で、最小値は3.56、最大値は8.78になっている。（下）"
   ]
  },
  {
   "cell_type": "code",
   "execution_count": 69,
   "id": "jewish-backing",
   "metadata": {},
   "outputs": [
    {
     "data": {
      "text/plain": [
       "count    506.000000\n",
       "mean       6.284634\n",
       "std        0.702617\n",
       "min        3.561000\n",
       "25%        5.885500\n",
       "50%        6.208500\n",
       "75%        6.623500\n",
       "max        8.780000\n",
       "Name: RM, dtype: float64"
      ]
     },
     "execution_count": 69,
     "metadata": {},
     "output_type": "execute_result"
    }
   ],
   "source": [
    "df.describe().RM"
   ]
  },
  {
   "cell_type": "code",
   "execution_count": 70,
   "id": "written-capture",
   "metadata": {},
   "outputs": [
    {
     "name": "stdout",
     "output_type": "stream",
     "text": [
      ".. _boston_dataset:\n",
      "\n",
      "Boston house prices dataset\n",
      "---------------------------\n",
      "\n",
      "**Data Set Characteristics:**  \n",
      "\n",
      "    :Number of Instances: 506 \n",
      "\n",
      "    :Number of Attributes: 13 numeric/categorical predictive. Median Value (attribute 14) is usually the target.\n",
      "\n",
      "    :Attribute Information (in order):\n",
      "        - CRIM     per capita crime rate by town\n",
      "        - ZN       proportion of residential land zoned for lots over 25,000 sq.ft.\n",
      "        - INDUS    proportion of non-retail business acres per town\n",
      "        - CHAS     Charles River dummy variable (= 1 if tract bounds river; 0 otherwise)\n",
      "        - NOX      nitric oxides concentration (parts per 10 million)\n",
      "        - RM       average number of rooms per dwelling\n",
      "        - AGE      proportion of owner-occupied units built prior to 1940\n",
      "        - DIS      weighted distances to five Boston employment centres\n",
      "        - RAD      index of accessibility to radial highways\n",
      "        - TAX      full-value property-tax rate per $10,000\n",
      "        - PTRATIO  pupil-teacher ratio by town\n",
      "        - B        1000(Bk - 0.63)^2 where Bk is the proportion of black people by town\n",
      "        - LSTAT    % lower status of the population\n",
      "        - MEDV     Median value of owner-occupied homes in $1000's\n",
      "\n",
      "    :Missing Attribute Values: None\n",
      "\n",
      "    :Creator: Harrison, D. and Rubinfeld, D.L.\n",
      "\n",
      "This is a copy of UCI ML housing dataset.\n",
      "https://archive.ics.uci.edu/ml/machine-learning-databases/housing/\n",
      "\n",
      "\n",
      "This dataset was taken from the StatLib library which is maintained at Carnegie Mellon University.\n",
      "\n",
      "The Boston house-price data of Harrison, D. and Rubinfeld, D.L. 'Hedonic\n",
      "prices and the demand for clean air', J. Environ. Economics & Management,\n",
      "vol.5, 81-102, 1978.   Used in Belsley, Kuh & Welsch, 'Regression diagnostics\n",
      "...', Wiley, 1980.   N.B. Various transformations are used in the table on\n",
      "pages 244-261 of the latter.\n",
      "\n",
      "The Boston house-price data has been used in many machine learning papers that address regression\n",
      "problems.   \n",
      "     \n",
      ".. topic:: References\n",
      "\n",
      "   - Belsley, Kuh & Welsch, 'Regression diagnostics: Identifying Influential Data and Sources of Collinearity', Wiley, 1980. 244-261.\n",
      "   - Quinlan,R. (1993). Combining Instance-Based and Model-Based Learning. In Proceedings on the Tenth International Conference of Machine Learning, 236-243, University of Massachusetts, Amherst. Morgan Kaufmann.\n",
      "\n"
     ]
    }
   ],
   "source": [
    "print(boston.DESCR)"
   ]
  },
  {
   "cell_type": "markdown",
   "id": "scenic-maine",
   "metadata": {},
   "source": [
    "### 重回帰分析(2変数)  \n",
    "CRIM,RMを使う。  \n",
    "#### sklearnを使う場合"
   ]
  },
  {
   "cell_type": "code",
   "execution_count": 71,
   "id": "animated-afghanistan",
   "metadata": {},
   "outputs": [],
   "source": [
    "data2 = df.loc[:,[\"CRIM\",\"RM\"]].values\n",
    "target2 = df.loc[:,[\"PRICE\"]].values"
   ]
  },
  {
   "cell_type": "code",
   "execution_count": 72,
   "id": "differential-recruitment",
   "metadata": {},
   "outputs": [
    {
     "name": "stdout",
     "output_type": "stream",
     "text": [
      "(506, 1)\n",
      "<class 'numpy.ndarray'>\n"
     ]
    }
   ],
   "source": [
    "print(target2.shape)\n",
    "print(type(target2))"
   ]
  },
  {
   "cell_type": "code",
   "execution_count": 73,
   "id": "involved-playing",
   "metadata": {},
   "outputs": [],
   "source": [
    "model2 = LinearRegression()"
   ]
  },
  {
   "cell_type": "code",
   "execution_count": 74,
   "id": "lovely-adaptation",
   "metadata": {},
   "outputs": [
    {
     "data": {
      "text/plain": [
       "LinearRegression()"
      ]
     },
     "execution_count": 74,
     "metadata": {},
     "output_type": "execute_result"
    }
   ],
   "source": [
    "model2.fit(data2,target2)"
   ]
  },
  {
   "cell_type": "code",
   "execution_count": 81,
   "id": "conventional-bristol",
   "metadata": {},
   "outputs": [
    {
     "name": "stdout",
     "output_type": "stream",
     "text": [
      "[[29.43977562]]\n",
      "[[29.38679297]]\n",
      "[[21.04870738]]\n"
     ]
    }
   ],
   "source": [
    "print(model2.predict([[0.2,7]]))\n",
    "print(model2.predict([[0.4,7]]))\n",
    "print(model2.predict([[0.2,6]]))"
   ]
  },
  {
   "cell_type": "code",
   "execution_count": 76,
   "id": "great-background",
   "metadata": {},
   "outputs": [
    {
     "name": "stdout",
     "output_type": "stream",
     "text": [
      "[[-0.26491325  8.39106825]]\n",
      "[-29.24471945]\n"
     ]
    }
   ],
   "source": [
    "print(model2.coef_)\n",
    "print(model2.intercept_)"
   ]
  },
  {
   "cell_type": "markdown",
   "id": "weekly-cologne",
   "metadata": {},
   "source": [
    "#### sklearnを使わない場合"
   ]
  },
  {
   "cell_type": "code",
   "execution_count": 77,
   "id": "short-printing",
   "metadata": {},
   "outputs": [],
   "source": [
    "data_buf2 = np.concatenate((np.ones(data2.shape[0]).reshape(-1,1),data2),axis=1)"
   ]
  },
  {
   "cell_type": "code",
   "execution_count": 78,
   "id": "confident-halloween",
   "metadata": {},
   "outputs": [],
   "source": [
    "what2 = np.linalg.inv(data_buf2.T.dot(data_buf2)).dot(data_buf2.T).dot(target2)"
   ]
  },
  {
   "cell_type": "markdown",
   "id": "bound-driving",
   "metadata": {},
   "source": [
    "what2の値は、model2の係数、切片に一致する"
   ]
  },
  {
   "cell_type": "code",
   "execution_count": 79,
   "id": "dangerous-theta",
   "metadata": {},
   "outputs": [
    {
     "name": "stdout",
     "output_type": "stream",
     "text": [
      "[[-29.24471945]\n",
      " [ -0.26491325]\n",
      " [  8.39106825]]\n"
     ]
    }
   ],
   "source": [
    "print(what2)"
   ]
  },
  {
   "cell_type": "code",
   "execution_count": 80,
   "id": "resistant-response",
   "metadata": {},
   "outputs": [
    {
     "name": "stdout",
     "output_type": "stream",
     "text": [
      "[[29.43977562]]\n"
     ]
    }
   ],
   "source": [
    "#predict sklearnを使った場合と一致する。\n",
    "print(np.array([[1,0.2,7]]).dot(what2))"
   ]
  },
  {
   "cell_type": "markdown",
   "id": "forced-delicious",
   "metadata": {},
   "source": []
  },
  {
   "cell_type": "code",
   "execution_count": null,
   "id": "linear-latest",
   "metadata": {},
   "outputs": [],
   "source": []
  }
 ],
 "metadata": {
  "kernelspec": {
   "display_name": "Python 3",
   "language": "python",
   "name": "python3"
  },
  "language_info": {
   "codemirror_mode": {
    "name": "ipython",
    "version": 3
   },
   "file_extension": ".py",
   "mimetype": "text/x-python",
   "name": "python",
   "nbconvert_exporter": "python",
   "pygments_lexer": "ipython3",
   "version": "3.8.5"
  }
 },
 "nbformat": 4,
 "nbformat_minor": 5
}
