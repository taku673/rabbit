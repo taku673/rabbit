{
 "cells": [
  {
   "cell_type": "markdown",
   "id": "convinced-principal",
   "metadata": {},
   "source": [
    "# 機械学習\n",
    "## 非線形回帰"
   ]
  },
  {
   "cell_type": "markdown",
   "id": "reduced-winning",
   "metadata": {},
   "source": [
    "- 非線形の回帰の例  \n",
    "$y=w_0+w_ix+2_2x^2+w_3x^3$  \n",
    "$y=w_0+w_1\\sin x+w_2\\cos x+w_3\\log x$  \n",
    "など。多乗項やsin項などが入る。つまりxの代わりに、$\\phi (x)$を用いる。  \n",
    "パラメータについては線形の時と同じ！(linear-in-parameter)  \n",
    "※ ということは、各成分について、$\\phi (x)$を計算して、重回帰分析すれば、非線形回帰も線形回帰のアルゴリズムそのままでできそう。計算量は別だが……。  \n",
    "これらは、「線形モデルによる非線形回帰」といえる。"
   ]
  },
  {
   "cell_type": "markdown",
   "id": "hollywood-forwarding",
   "metadata": {},
   "source": [
    "- 基底関数  \n",
    "上記の$\\phi (x)$を基底関数と呼ぶ。よく使う基底関数として、\n",
    " 1. 多次式：$phi (x) = x^i$  \n",
    " 2. ガウス型：$\\exp \\left( -\\frac{(x-\\mu_i)^2}{\\sigma ^2} \\right)$  \n",
    " 関数の位置を調整するのが$\\mu$、広がりを制御しているのが$h_i$や$\\sigma$"
   ]
  },
  {
   "cell_type": "markdown",
   "id": "mexican-locking",
   "metadata": {},
   "source": [
    "- 基底展開法  \n",
    "線形関数のxのところを$\\phi (x)$に置き換えることで、線形回帰と同じ枠組みで推定可能  \n",
    "つまり、  \n",
    "$$\n",
    "\\hat{\\mathbb{w}}=(\\Phi ^{(train)T}\\Phi ^{(train)})^{-1}\\Phi ^{(train)T}\\mathbb{y}^{(train)}\n",
    "$$  \n",
    "ここから、\n",
    "$$\n",
    "\\hat{\\mathbb{y}} = \\Phi_*\\hat{\\mathbb{w}} = \\Phi_*(\\Phi ^{(train)T}\\Phi ^{(train)})^{-1}\\Phi ^{(train)T}\\mathbb{y}^{(train)}\n",
    "$$"
   ]
  },
  {
   "cell_type": "markdown",
   "id": "changed-uruguay",
   "metadata": {},
   "source": [
    "- 未学習と過学習  \n",
    "表現力が低すぎると、分析したい現象を十分に分析できない。（未学習）  \n",
    "表現力が高すぎると、具体的な測定点（学習データ）に過度に適合し、未知データの説明が難しくなる（汎化性能が低い：過学習）  \n",
    "過学習への対策  \n",
    " 1. 学習データを増やす  \n",
    " 2. 不要な基底関数を削除して表現力を抑制（特徴量選択）（AICによるモデル選択、など）  \n",
    " 3. 正則化法を利用して表現力を抑止（wが大きくなりすぎないようにする。L1,L2正則化など）⇒（Lasso,Ridgeなど）  \n",
    " モデルの複雑さが上がった時に、罰則項を設ける。"
   ]
  },
  {
   "cell_type": "markdown",
   "id": "coastal-politics",
   "metadata": {},
   "source": [
    "#### - 正則化法\n",
    "$$\n",
    "\\hat{\\mathbb{y}} = X_*\\hat{\\mathbb{w}} =X_*(X ^{(train)T}X ^{(train)})^{-1}X ^{(train)T}\\mathbb{y}^{(train)}\n",
    "$$  \n",
    "この係数部分が極めて大きくなってしまうのは、$(X ^{(train)T}X ^{(train)})$の部分が逆行列を持たないとき。  \n",
    "※ちょうど、0に極めて小さい数で割り算すると、$\\pm \\infty$に発散するようなもの（？）  \n",
    "Xの成分ベクトルがほとんど平行になっていると、逆行列の要素が極端に大きくなってしまう。  \n",
    "そこで、wが大きくなるとき（Xの成分ベクトルのいくつかが平行に近くなっているとき）は、罰則項が大きくなるような項を追加する。\n",
    "$$\n",
    "E(\\mathbb{w})=J(\\mathbb{w})+\\lambda \\mathbb{w}^T \\mathbb{w} \n",
    "$$  \n",
    "第二項がwが大きくなりすぎないように制御している。$\\lambda$はハイパーパラメータ。  \n",
    "一般的には、\n",
    "$$\n",
    "S_\\gamma = (\\mathbb{y}-\\Phi \\mathbb{w})^T(\\mathbb{y}-\\Phi \\mathbb{w}) + \\gamma R(\\mathbb{w})\n",
    "$$  \n",
    "$\\gamma$はハイパーパラメータ。正則化項の式Rの決め方は様々考えられる。  \n",
    "今解くのは、\n",
    "$$\\min MSE s.t. R(\\mathbb{w})\\leq r$$\n",
    "不等式条件の付いた、最適化問題  \n",
    "KKT条件(ラグランジュのための条件のこと？)より、\n",
    "$$\\min MSE + \\lambda R(\\mathbb{w})$$"
   ]
  },
  {
   "cell_type": "markdown",
   "id": "accessible-success",
   "metadata": {},
   "source": [
    "- ホールドアウト法  \n",
    "有限のデータを学習用とテスト用の2つに分割し、「予測精度」や「誤り率」を推定するために使用する。  \n",
    "学習そのものの制度と、性能評価の制度のトレードオフがある。  \n",
    "データが大量にあるときはうまく機能する。  \n",
    "最初に検証データを決めてしまうが故に、データが少ないと外れ値の影響を受けやすい。  \n",
    "- クロスバリデーション（交差検証）  \n",
    "k分割して、検証用のデータを入れ替えながらモデルを構築して、最適パラメータ（最適モデル）を探す。  \n",
    "- 制度の計測方法  \n",
    "最も良いのは、検証データでの最小二乗誤差。損失関数の選び方はいくつか考えられるが、原則として、学習誤差と検証誤差は同じ損失関数をしたほうが良い。  \n",
    "- グリッドサーチ  \n",
    "ハイパーパラメータを決める時に、チューイングパラメータをすべての組み合わせで評価値を算出して、いいパラメータを探す。  \n",
    "現実的にはベイズ最適化の方が使われる。"
   ]
  },
  {
   "cell_type": "markdown",
   "id": "homeless-chair",
   "metadata": {},
   "source": [
    "### 実装  \n",
    "以下、モデルデータを作成して、多項式回帰を実装する。"
   ]
  },
  {
   "cell_type": "code",
   "execution_count": 7,
   "id": "acting-september",
   "metadata": {},
   "outputs": [],
   "source": [
    "import numpy as np\n",
    "import matplotlib.pyplot as plt"
   ]
  },
  {
   "cell_type": "code",
   "execution_count": 4,
   "id": "needed-rwanda",
   "metadata": {},
   "outputs": [],
   "source": [
    "class sample_data_maker():\n",
    "    def __init__(self, n_sample, var):\n",
    "        self.n_sample = n_sample\n",
    "        self.var = var\n",
    "    \n",
    "    def sin_func(self, x):\n",
    "        '''周期1のサイン波'''\n",
    "        return np.sin(2 * np.pi * x)\n",
    "    \n",
    "    def add_noise(self, y_true):\n",
    "        return y_true + np.random.normal(scale=self.var, size=y_true.shape)\n",
    "    \n",
    "    def make_sample(self, xs):\n",
    "        ys_true = self.sin_func(xs)\n",
    "        ys = self.add_noise(ys_true)\n",
    "        return ys_true, ys"
   ]
  },
  {
   "cell_type": "code",
   "execution_count": 6,
   "id": "equipped-magnitude",
   "metadata": {},
   "outputs": [],
   "source": [
    "def plt_result(xs, ys_true, ys):\n",
    "    plt.scatter(xs, ys, facecolor = \"none\", edgecolor = \"b\", s=50, label = \"training data\")\n",
    "    plt.plot(xs, ys_true, label = \"$\\sin (2\\pi x)$\")\n",
    "    plt.legend()"
   ]
  },
  {
   "cell_type": "code",
   "execution_count": 12,
   "id": "humanitarian-timing",
   "metadata": {},
   "outputs": [
    {
     "data": {
      "image/png": "[encoded data removed]",
      "text/plain": [
       "<Figure size 432x288 with 1 Axes>"
      ]
     },
     "metadata": {
      "needs_background": "light"
     },
     "output_type": "display_data"
    }
   ],
   "source": [
    "n_sample = 10\n",
    "var = .25\n",
    "\n",
    "maker = sample_data_maker(n_sample = n_sample, var = var)\n",
    "xs = np.linspace(0,1,n_sample)\n",
    "ys_true, ys = maker.make_sample(xs)\n",
    "\n",
    "plt_result(xs,ys_true,ys)\n",
    "plt.show()"
   ]
  },
  {
   "cell_type": "code",
   "execution_count": 16,
   "id": "incident-heart",
   "metadata": {},
   "outputs": [],
   "source": [
    "class PolyPredictor():\n",
    "    def __init__(self,degree):\n",
    "        self.degree = degree\n",
    "        \n",
    "    def fit(self, xs, ys):\n",
    "        self.xs = xs\n",
    "        self.ys = ys\n",
    "        self.X = self.polynomial_features(self.xs)\n",
    "        self.w = np.dot(np.dot(np.linalg.inv(np.dot(self.X.T, self.X)),self.X.T), self.ys)\n",
    "        \n",
    "    def polynomial_features(self, xs):\n",
    "        X = np.ones((len(xs), degree + 1))\n",
    "        X_t =  X.T\n",
    "        for i in range(1, degree+1):\n",
    "            X_t[i] = X_t[i-1] * xs\n",
    "        return X_t.T\n",
    "    \n",
    "    def predict(self, xs):\n",
    "        X_test = self.polynomial_features(xs)\n",
    "        return np.dot(X_test, self.w)"
   ]
  },
  {
   "cell_type": "code",
   "execution_count": 17,
   "id": "whole-relation",
   "metadata": {},
   "outputs": [],
   "source": [
    "degree = 3\n",
    "polyPredictor = PolyPredictor(degree = degree)\n",
    "polyPredictor.fit(xs, ys)\n",
    "ys_pred = polyPredictor.predict(xs)"
   ]
  },
  {
   "cell_type": "code",
   "execution_count": 18,
   "id": "parliamentary-direction",
   "metadata": {},
   "outputs": [
    {
     "data": {
      "image/png": "[encoded data removed]",
      "text/plain": [
       "<Figure size 432x288 with 1 Axes>"
      ]
     },
     "metadata": {
      "needs_background": "light"
     },
     "output_type": "display_data"
    }
   ],
   "source": [
    "plt.scatter(xs, ys, facecolor = \"none\", edgecolor = \"b\", s = 50, label=\"training data\")\n",
    "plt.plot(xs, ys_true, label =\"$\\sin (2\\pi x)$\")\n",
    "plt.plot(xs, ys_pred, label =\"prediction\")\n",
    "\n",
    "plt.legend()\n",
    "plt.show()"
   ]
  },
  {
   "cell_type": "code",
   "execution_count": null,
   "id": "supposed-wisconsin",
   "metadata": {},
   "outputs": [],
   "source": []
  }
 ],
 "metadata": {
  "kernelspec": {
   "display_name": "Python 3",
   "language": "python",
   "name": "python3"
  },
  "language_info": {
   "codemirror_mode": {
    "name": "ipython",
    "version": 3
   },
   "file_extension": ".py",
   "mimetype": "text/x-python",
   "name": "python",
   "nbconvert_exporter": "python",
   "pygments_lexer": "ipython3",
   "version": "3.8.5"
  }
 },
 "nbformat": 4,
 "nbformat_minor": 5
}
